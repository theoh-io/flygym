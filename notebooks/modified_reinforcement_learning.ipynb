{
  "cells": [
    {
      "attachments": {},
      "cell_type": "markdown",
      "metadata": {
        "id": "qSwjm60DA5t6"
      },
      "source": [
        "## Reinforcement learning"
      ]
    },
    {
      "attachments": {},
      "cell_type": "markdown",
      "metadata": {
        "id": "uBAuXiu8Bk9m"
      },
      "source": [
        "## Installation"
      ]
    },
    {
      "cell_type": "code",
      "execution_count": 4,
      "metadata": {
        "colab": {
          "base_uri": "https://localhost:8080/"
        },
        "id": "wEXloVA_BvxX",
        "outputId": "537e3d20-e30a-4869-8e1b-765d9a3d2337"
      },
      "outputs": [],
      "source": [
        "import gymnasium as gym\n",
        "\n",
        "cartpole_env = gym.make('CartPole-v1', render_mode='rgb_array')"
      ]
    },
    {
      "attachments": {},
      "cell_type": "markdown",
      "metadata": {
        "id": "DvMZXF5FCbuj"
      },
      "source": [
        "Next, we initialize a model using `stable-baselines3`. This, once again, is a one-liner:"
      ]
    },
    {
      "cell_type": "code",
      "execution_count": 5,
      "metadata": {
        "colab": {
          "base_uri": "https://localhost:8080/"
        },
        "id": "VgAK9NIQCbgB",
        "outputId": "4f690940-b69a-4f61-a2ce-1765edb3156a"
      },
      "outputs": [
        {
          "name": "stdout",
          "output_type": "stream",
          "text": [
            "Using cpu device\n",
            "Wrapping the env with a `Monitor` wrapper\n",
            "Wrapping the env in a DummyVecEnv.\n"
          ]
        }
      ],
      "source": [
        "from stable_baselines3 import PPO\n",
        "from stable_baselines3.ppo import MlpPolicy\n",
        "\n",
        "cartpole_model = PPO(MlpPolicy, cartpole_env, verbose=1)"
      ]
    },
    {
      "attachments": {},
      "cell_type": "markdown",
      "metadata": {
        "id": "4svLRgPqDX2z"
      },
      "source": [
        "We can now evaluate the untrained random policy for the task. Note that we wrap the environment around the `Monitor` class, which is used to keep track of information like episode reward."
      ]
    },
    {
      "cell_type": "code",
      "execution_count": 6,
      "metadata": {
        "colab": {
          "base_uri": "https://localhost:8080/"
        },
        "id": "ylwSq6cCDewc",
        "outputId": "38c99582-e942-4c93-9216-09039a2db9fd"
      },
      "outputs": [
        {
          "name": "stdout",
          "output_type": "stream",
          "text": [
            "mean_reward:9.56 +/- 0.80\n"
          ]
        }
      ],
      "source": [
        "from stable_baselines3.common.evaluation import evaluate_policy\n",
        "from stable_baselines3.common.monitor import Monitor\n",
        "\n",
        "mean_reward, std_reward = evaluate_policy(cartpole_model,\n",
        "                                          Monitor(cartpole_env),\n",
        "                                          n_eval_episodes=100)\n",
        "print(f\"mean_reward:{mean_reward:.2f} +/- {std_reward:.2f}\")"
      ]
    },
    {
      "attachments": {},
      "cell_type": "markdown",
      "metadata": {
        "id": "2rorzhEHBcsU"
      },
      "source": [
        "Remember the reward is simply the number of timesteps where the controller mangaged to keep the pole upright. The result is not very impressive.\n",
        "\n",
        "Now, we can train the model for 10,000 iterations:"
      ]
    },
    {
      "cell_type": "code",
      "execution_count": 7,
      "metadata": {
        "colab": {
          "base_uri": "https://localhost:8080/",
          "height": 1000,
          "referenced_widgets": [
            "cf5b496ca065444cb7b872cf8892e0ea",
            "9b9597d40b99416486f21e6b8d0941d1"
          ]
        },
        "id": "QDoywZQTEO0z",
        "outputId": "44b3b31e-b81e-4445-b52d-07781c187c17"
      },
      "outputs": [
        {
          "data": {
            "application/vnd.jupyter.widget-view+json": {
              "model_id": "416750858ac746a1a43fa3483f7bc128",
              "version_major": 2,
              "version_minor": 0
            },
            "text/plain": [
              "Output()"
            ]
          },
          "metadata": {},
          "output_type": "display_data"
        },
        {
          "name": "stdout",
          "output_type": "stream",
          "text": [
            "---------------------------------\n",
            "| rollout/           |          |\n",
            "|    ep_len_mean     | 21.5     |\n",
            "|    ep_rew_mean     | 21.5     |\n",
            "| time/              |          |\n",
            "|    fps             | 1034     |\n",
            "|    iterations      | 1        |\n",
            "|    time_elapsed    | 1        |\n",
            "|    total_timesteps | 2048     |\n",
            "---------------------------------\n"
          ]
        },
        {
          "name": "stdout",
          "output_type": "stream",
          "text": [
            "-----------------------------------------\n",
            "| rollout/                |             |\n",
            "|    ep_len_mean          | 24.6        |\n",
            "|    ep_rew_mean          | 24.6        |\n",
            "| time/                   |             |\n",
            "|    fps                  | 864         |\n",
            "|    iterations           | 2           |\n",
            "|    time_elapsed         | 4           |\n",
            "|    total_timesteps      | 4096        |\n",
            "| train/                  |             |\n",
            "|    approx_kl            | 0.008606881 |\n",
            "|    clip_fraction        | 0.0948      |\n",
            "|    clip_range           | 0.2         |\n",
            "|    entropy_loss         | -0.686      |\n",
            "|    explained_variance   | -0.000739   |\n",
            "|    learning_rate        | 0.0003      |\n",
            "|    loss                 | 5.45        |\n",
            "|    n_updates            | 10          |\n",
            "|    policy_gradient_loss | -0.0142     |\n",
            "|    value_loss           | 49.7        |\n",
            "-----------------------------------------\n"
          ]
        },
        {
          "name": "stdout",
          "output_type": "stream",
          "text": [
            "-----------------------------------------\n",
            "| rollout/                |             |\n",
            "|    ep_len_mean          | 32.8        |\n",
            "|    ep_rew_mean          | 32.8        |\n",
            "| time/                   |             |\n",
            "|    fps                  | 825         |\n",
            "|    iterations           | 3           |\n",
            "|    time_elapsed         | 7           |\n",
            "|    total_timesteps      | 6144        |\n",
            "| train/                  |             |\n",
            "|    approx_kl            | 0.009230178 |\n",
            "|    clip_fraction        | 0.0574      |\n",
            "|    clip_range           | 0.2         |\n",
            "|    entropy_loss         | -0.666      |\n",
            "|    explained_variance   | 0.131       |\n",
            "|    learning_rate        | 0.0003      |\n",
            "|    loss                 | 11.7        |\n",
            "|    n_updates            | 20          |\n",
            "|    policy_gradient_loss | -0.0136     |\n",
            "|    value_loss           | 34          |\n",
            "-----------------------------------------\n"
          ]
        },
        {
          "name": "stdout",
          "output_type": "stream",
          "text": [
            "-----------------------------------------\n",
            "| rollout/                |             |\n",
            "|    ep_len_mean          | 42.8        |\n",
            "|    ep_rew_mean          | 42.8        |\n",
            "| time/                   |             |\n",
            "|    fps                  | 811         |\n",
            "|    iterations           | 4           |\n",
            "|    time_elapsed         | 10          |\n",
            "|    total_timesteps      | 8192        |\n",
            "| train/                  |             |\n",
            "|    approx_kl            | 0.008520385 |\n",
            "|    clip_fraction        | 0.0943      |\n",
            "|    clip_range           | 0.2         |\n",
            "|    entropy_loss         | -0.636      |\n",
            "|    explained_variance   | 0.203       |\n",
            "|    learning_rate        | 0.0003      |\n",
            "|    loss                 | 17.8        |\n",
            "|    n_updates            | 30          |\n",
            "|    policy_gradient_loss | -0.0227     |\n",
            "|    value_loss           | 46.5        |\n",
            "-----------------------------------------\n"
          ]
        },
        {
          "name": "stdout",
          "output_type": "stream",
          "text": [
            "-----------------------------------------\n",
            "| rollout/                |             |\n",
            "|    ep_len_mean          | 57.5        |\n",
            "|    ep_rew_mean          | 57.5        |\n",
            "| time/                   |             |\n",
            "|    fps                  | 792         |\n",
            "|    iterations           | 5           |\n",
            "|    time_elapsed         | 12          |\n",
            "|    total_timesteps      | 10240       |\n",
            "| train/                  |             |\n",
            "|    approx_kl            | 0.008251837 |\n",
            "|    clip_fraction        | 0.0843      |\n",
            "|    clip_range           | 0.2         |\n",
            "|    entropy_loss         | -0.61       |\n",
            "|    explained_variance   | 0.262       |\n",
            "|    learning_rate        | 0.0003      |\n",
            "|    loss                 | 21.7        |\n",
            "|    n_updates            | 40          |\n",
            "|    policy_gradient_loss | -0.019      |\n",
            "|    value_loss           | 62.9        |\n",
            "-----------------------------------------\n"
          ]
        },
        {
          "data": {
            "text/html": [
              "<pre style=\"white-space:pre;overflow-x:auto;line-height:normal;font-family:Menlo,'DejaVu Sans Mono',consolas,'Courier New',monospace\"></pre>\n"
            ],
            "text/plain": []
          },
          "metadata": {},
          "output_type": "display_data"
        },
        {
          "data": {
            "text/html": [
              "<pre style=\"white-space:pre;overflow-x:auto;line-height:normal;font-family:Menlo,'DejaVu Sans Mono',consolas,'Courier New',monospace\">\n",
              "</pre>\n"
            ],
            "text/plain": [
              "\n"
            ]
          },
          "metadata": {},
          "output_type": "display_data"
        },
        {
          "data": {
            "text/plain": [
              "<stable_baselines3.ppo.ppo.PPO at 0x7fda843ca250>"
            ]
          },
          "execution_count": 7,
          "metadata": {},
          "output_type": "execute_result"
        }
      ],
      "source": [
        "cartpole_model.learn(total_timesteps=10000, progress_bar=True)"
      ]
    },
    {
      "attachments": {},
      "cell_type": "markdown",
      "metadata": {
        "id": "bcIDV-jsBcdE"
      },
      "source": [
        "Let's reevaluate the model:"
      ]
    },
    {
      "cell_type": "code",
      "execution_count": 8,
      "metadata": {
        "colab": {
          "base_uri": "https://localhost:8080/"
        },
        "id": "0TezzFR4EV6N",
        "outputId": "bc506a48-f0a0-4b36-b376-478347497d47"
      },
      "outputs": [
        {
          "name": "stdout",
          "output_type": "stream",
          "text": [
            "mean_reward:386.01 +/- 105.28\n"
          ]
        }
      ],
      "source": [
        "mean_reward, std_reward = evaluate_policy(cartpole_model,\n",
        "                                          Monitor(cartpole_env),\n",
        "                                          n_eval_episodes=100)\n",
        "print(f\"mean_reward:{mean_reward:.2f} +/- {std_reward:.2f}\")"
      ]
    },
    {
      "attachments": {},
      "cell_type": "markdown",
      "metadata": {
        "id": "IdjE-19GEcIm"
      },
      "source": [
        "Better. Let's take a look at a video of a simulation:"
      ]
    },
    {
      "cell_type": "code",
      "execution_count": 9,
      "metadata": {
        "colab": {
          "base_uri": "https://localhost:8080/"
        },
        "id": "j3b_FJBHEWmq",
        "outputId": "c4739183-f6a4-4357-915a-066df39f3eee"
      },
      "outputs": [],
      "source": [
        "obs = cartpole_env.reset()\n",
        "scenes = []\n",
        "for i in range(500):\n",
        "    action, _ = cartpole_model.predict(cartpole_env.state)\n",
        "    obs, reward, terminated, truncated, info = cartpole_env.step(action)\n",
        "    scenes.append(cartpole_env.render())\n",
        "    if terminated:\n",
        "        # stop early if the simulation terminates early because the pole fell\n",
        "        break"
      ]
    },
    {
      "cell_type": "code",
      "execution_count": 10,
      "metadata": {
        "colab": {
          "base_uri": "https://localhost:8080/",
          "height": 478
        },
        "id": "KsX0iFXFEWXq",
        "outputId": "b074742f-2f83-4439-ed1d-88d0eb70b59e"
      },
      "outputs": [
        {
          "data": {
            "text/html": [
              "<table class=\"show_videos\" style=\"border-spacing:0px;\"><tr><td style=\"padding:1px;\"><video controls width=\"600\" height=\"400\" style=\"object-fit:cover;\" loop autoplay muted>\n",
              "      <source src=\"data:video/mp4;base64,AAAAIGZ0eXBpc29tAAACAGlzb21pc28yYXZjMW1wNDEAAAAIZnJlZQAAZJ9tZGF0AAACgAYF//983EXpvebZSLeWLNgg2SPu73gyNjQgLSBjb3JlIDE1NSByMjkxNyAwYTg0ZDk4IC0gSC4yNjQvTVBFRy00IEFWQyBjb2RlYyAtIENvcHlsZWZ0IDIwMDMtMjAxOCAtIGh0dHA6Ly93d3cudmlkZW9sYW4ub3JnL3gyNjQuaHRtbCAtIG9wdGlvbnM6IGNhYmFjPTEgcmVmPTMgZGVibG9jaz0xOjA6MCBhbmFseXNlPTB4MzoweDExMyBtZT1oZXggc3VibWU9NyBwc3k9MSBwc3lfcmQ9MS4wMDowLjAwIG1peGVkX3JlZj0xIG1lX3JhbmdlPTE2IGNocm9tYV9tZT0xIHRyZWxsaXM9MSA4eDhkY3Q9MSBjcW09MCBkZWFkem9uZT0yMSwxMSBmYXN0X3Bza2lwPTEgY2hyb21hX3FwX29mZnNldD0tMiB0aHJlYWRzPTEyIGxvb2thaGVhZF90aHJlYWRzPTIgc2xpY2VkX3RocmVhZHM9MCBucj0wIGRlY2ltYXRlPTEgaW50ZXJsYWNlZD0wIGJsdXJheV9jb21wYXQ9MCBjb25zdHJhaW5lZF9pbnRyYT0wIGJmcmFtZXM9MyBiX3B5cmFtaWQ9MiBiX2FkYXB0PTEgYl9iaWFzPTAgZGlyZWN0PTEgd2VpZ2h0Yj0xIG9wZW5fZ29wPTAgd2VpZ2h0cD0yIGtleWludD0yNTAga2V5aW50X21pbj0yNSBzY2VuZWN1dD00MCBpbnRyYV9yZWZyZXNoPTAgcmM9Y3FwIG1idHJlZT0wIHFwPTIwIGlwX3JhdGlvPTEuNDAgcGJfcmF0aW89MS4zMCBhcT0wAIAAAAGUZYiEAP/+9KD4FM+hS8rMVr3YiJg5QODsnDOHYAAAAwAAAwAB6dDY/fz9YZuAAAAJYAImE0D8DzETFWKgSvAkDMI9E3+C9LcQnLg1R9lSl8CuZ8MWl1F33wAyNIazpd6KyEGtdXcPSPy1H4StD0G0xL5rnGiYMsQc3loGuiMHqnKEYnroNpmASGz/1u+yVeuW8ZfB6NrLTcGNK81S5ktMwLsaP55/rRGZv3FLwSKpqREaCy0RNEl0OTZGwIJHAISxjHlGduK4cPKaGT5JvzTP7oBKdLa472VV/svyVQypTUth6W4U3cRGFr/dCsXPXVG992sqyo0MZXKxOUMDCsYWq67MB3AnuMMgkM4pyTyVxbiZKrP2DmeYolN8M7G1nmAVeZSsrT9b0//rrR2LxWjbpYBJHSwGCFNInUS+zYm5REEkLtM7Jqzrn57oIMdYKSxwOON7niSVaqJkMLOFcByc0e5Qh4WiFx+JDmwCyb5BOWyGiYOBFJCY7H9Vtc7d4uTqmvigLW9uScIAAAMAAAMAAAMABKUAAAC6QZokbH/kQAAA7J9+4JE0ZXmcREbBmJ7t0tkAJAQcCcb47MzxJu2qcMICFwApQyOv/g+nG91B146+y9M7wRiaDNq/HHtOkheJOkitdTU84x+rGvglexTqIWpSdOnkgSVV3uquBPSJdX2jJ3RiUgx7u6xre9qfh3ObL074L8ojO3TQKSuhBdBH53X0WhespfKQgCfZiHFvJUYHsgI2KwfOwbn3Qk2/jyNpqXaBQIKzC6+PBIoX7I5o8kC2AAAAZ0GeQnivAABao/JsXhNdgZNvc+40+7v6E0TEkUfwEY9aTNWaurrDfAnc/uQGFFWItflUHLg5SdSwm5nybeqjMgVcBqnIXrg4eSqNBX93n3joPzFMn89Bz3/kECx6ZQEJEx+bur+FtmEAAAAXAZ5hdEn/AABoJkKCCEuTGJyugNiJkWAAAAAZAZ5jakn/AAAnRdBIz3R+72Q3Z9+FTvk6xQAAAChBmmhJqEFomUwP/+RAAABav3q6JAhqwySUJ2fCmBaBzrlfiuEELfWLAAAAHEGehkURLX8AACG/sOrKL0FWMg8aIoMPii00/5cAAAANAZ6ldEn/AAADAAAE3QAAABoBnqdqSf8AACd8ToJWdkB9mOyP4GqCmSZAQAAAABZBmqxJqEFsmUwP/+RAAAAM1rblWAG9AAAAQkGeykUVLX8AACE8e4oT7qvdIazxhwjACv/6EK7/E+T22D1JGmJh2cmSJKEF1u0ToyeU0SiXfLglDH4kgfSG/a6eDQAAABgBnul0Sf8AACc6gbNIGgO5aDORsnn9EBAAAAAZAZ7rakn/AAAnRdWXmPZNyeu+BXyR/A3lwAAAACRBmvBJqEFsmUwP/+RAAABav3rD/MYsSnZ4RxTAIoFgQF03z1UAAAAZQZ8ORRUtfwAAIaBjj+BGj6i9Uos9LiLZgQAAABgBny10Sf8AACc6gbNIGgO5aDORsnn9EBEAAAANAZ8vakn/AAADAAAE3AAAAJxBmzRJqEFsmUwP/+RAAABYUMSScs56EJIn3XEN2Mcd1L07vRPPzTXOBNzRNecRTDfBN44ieCQat+GRUDgOkZz0/4o4B0NpHe8Eq4wdq+U0e19m7j37LAYaYxBO3YkYK1PXtb5vNUpZVN01T0RSTF/RgM0rRF/1ilqiasO646sLQV10wFJ1ZyLRWg1Bft9mYJElYqs3FNNFGAx83GAAAAAbQZ9SRRUtfwAAIL+xEQfp3CFAUljpanw08kmBAAAADQGfcXRJ/wAAAwAABNwAAAAZAZ9zakn/AAAmY9RdQJklIkqPtgN6mk5FKgAAAUtBm3hJqEFsmUwP/+RAAADtX7A71teFTM/g+1mNaGkcECjabpaPHg0NJUWb8Np3vZuaNhQDJJ2/Eoyyzxxr/97edXaKf+7u2E+LU4PsMaWyhXXFmUHEgnfZFsRk0qUnbJ0Z6o5ZJro75B858oTQFuQglKuHlPxlwHuhSARX2f2py+tDboytDgyHf1zoBBBFRWrJoWCuixc0XFtNQg+dd1rGXJcV5u6HM/KlLowMvZ4ITUDi6NZfaMkHx/k4T57ZQu85kq+e44gDpA9qIPMOXk1VrN33SCgBdCqk8yQs+nhej5XgYeVAQfgwv5MqwB3xJgIPijH93NCtQN0B+WvCOxgJvl4lX+XzQDXpkFSXPQH+to4Ji7yXtklzy7ojvk9ODGbYU1Kv0/o69qtz0AZfJ6xE6t8KV5TXkcWtO2OD2CAhVnLWUkNsoU06VLSBAAAAjkGflkUVLX8AAFqj8PTEaoJpJb19XE5UkYuCpv/Yt+q0G5VPRjfm325WaEXiK4A2eW++cEDMj37XTEWHEXRNUxaAhdTjNyg3QIrMEDx79yQWGAA9n8ezVr5cyVtn74oPY45IkNTuTl9E+570dUVPo+PzbWpa52diWfSsQqUTTmhdISvg0/QWg4Kq/ZNhLbgAAABhAZ+1dEn/AABot6tonJFxWsM4kv/iBTU1fgme/82QW5pQXF51G+kYQVSbp+wWq7mwjMJAVLbHZsAfcW9VNQnXJMfH6UiMA13BXqnzsoGtBaPGjQAGJ/miDKZ5kuhCrMyfZwAAAHwBn7dqSf8AACffq69Y0uZ6QavKN5OMW5SLzYzyRAEFu0uG5OpIu+tk5J3v0Z3KF2O9qADwmfYYaOUnUMdkiPbVSMZ30gliQ4jbJxMfyRQ+hCn0Wr4kZoddoNR2uHT5qO8a80T+yTbuF/5gvJ6BdxaOQFjNEWxEzv+ODrbhAAAAS0GbvEmoQWyZTA//5EAAAO1uy7pxsJjKwQNqEE62CgdCgKvKa7WRYI3QMsLFa8LXX+7eYzNM6uBfLJh6npo9X+IFcxK26eO7HmzkPAAAAHpBn9pFFS1/AABa6KMVYIpexBhFkEc1emgpGuJV11FS9eiUfl5sU28MHbuGhO5pF/ziuHVKzUapSlXPuYc57/OkG32t6g1pV3XmorW7E5xg5mj5tsfPqzBa4FEzOv55SXg544PyWOzMAeIemCAEDkw+Mm9ytNlu2UG2YQAAABsBn/l0Sf8AAGgmQoIIS5NhryW6vG4FZ9K3yTAAAAAgAZ/7akn/AABozbZzGXQEdl9rwWsZ8ncR99e7cZEuCAkAAAEKQZvgSahBbJlMD//kQAAA7cV2c1UAOkKxyLamt4Vp8FflXf8VPe5oMslgzHuXm6bscqQ1eFTTvHOdy5EB8wC/pZlY6IOmcqVoTBVDBdUBZozjJpC4zoevvcZwbG5LL+BnS4S0nbmzKy+WY0ENyB8MosgheyLPm7XI+kJ0qBaRwfTD4OuR/dhQrlpL+eyexYczJ0NRAAT2gomPDK5xUCbuO9IW0Awcre06YvoRHakCiPtI4FjkrOZ+FVAYQPf1KD8encGR7dQJeOKufA65J9lXF8zBiEPuoHHgKXLkEq9sTunhRIx3iYFBJomNrrfWj4tcki+7XwTlcNGtmZbhNi1kKih7MqPphEyx2fEAAACMQZ4eRRUtfwAAWo+gXqKZCxBwkIC3k1TcJU3YVLQYhc1BkvqOgCQvNIZY2aBmxGNxVZSw73IGmHAiMO0OE6G7kcBR0uPPktS1en4h53ZKWAFq4EtKtFI+kbrPCfPYzh3D2+7Ex8l3SAlSTmC6ih9SwqiBDDqvbCPIZAABqg5BjSSFKhFOpcqxRVc87cAAAABkAZ49dEn/AABpxnfoYT2jgUcg5B0XxkVpKnFhgjKXoTv4taPnJfTuPuD1IXj4+GuKLlyEdMnlBPJAZOi9JNEIoGPnd02/L8Rfl/peQb/gyMn6b4kD0wQG8yprY8wt11bsJi62zAAAABwBnj9qSf8AAGhTAJGe6P39fzVnXL88gqJz5/jhAAAApkGaJEmoQWyZTA//5EAAAO3ShlbRomh2rSbw4jLhmqRtU2ASaJysIxULvIj4FEs1nmL0ZBsJvBLnpMufJoWyKPNTvr8IoRzwUdqAIF5tBMO+sFztOCdSB0KH2mbP3oYHCC+rrQvcxNVcoD+C6iVsgSans4oEv3MUDKu8tfgDgyW0ZfXftSdo+Rws0x3pFyfHaJWcsiBF+zJJ3oMUayU/MaMc7hqU8vAAAABtQZ5CRRUtfwAAWvI9qNkPgO8fsw0pGRKh2Qtu+x4qVRduNm2Xj52zF1Ldz0RRsDQd0+XaXr/RTunEPsgkd+nIAVZpKwqm+kdmqgD1tzXCRU/T5I8tsXptHbq5nMaiMA3bLL3Uw8W4FJP04BofgwAAAHcBnmF0Sf8AACeVlekQpqKjuVpsrW/vngQRfZxEaFkWKLCctkEV7HU4Z89ah9L+2KkWCv7Mey0/c+y5wVF/xaHUn588XpDh25kLeMoPeFvOWyTBH34T89SheTljwtylTRuykPLJRXePxfPo1fczUvkFmJJpBNbvgwAAAJEBnmNqSf8AAGhTKJ894PpVnDwWWR64w0Axm5rSXlBRjlVc0S3oY9mkEJo0ewWpSHmCFOvv+RLZjVRonV93woiEW3An5lo8scv7jror+9qXK7Fv+GonLm0k/bxfOBHKcenOTd7+xDJTje5t+LakFiDrrGx7ej1Wc9jSAg2jHSDXVmhmEGkI+GmdPyNwSf2xFrbhAAAAk0GaaEmoQWyZTA//5EAAAOxoXODp/wI+KHeqSkE3Kwax2ajBVb44quV0um+OF488l/K64rFLGl9UhBSE4/koezmCnkhJhrttDgXvq3TU0mDDz2YPsUxce/SZFI2c9cx61U3zG/2h0DxWKzigz4WPBNFVAwNH3QOMLZvm0+naz+DyRwHpJgCsTTVqFIzs5iNsKfOpQQAAAGdBnoZFFS1/AABaj6AtAWn65B6E9To+Frux6EvO1pGw7jdjELxsOCG8heQcAJuTVXX5+umjtLwcpyroSB7Cywl8AiaCWCDoXuCbWRQiMKokDdXignxoSrTwOEgBCN82Q4xalzDYcduBAAAATQGepXRJ/wAAaL6POZan6MO8cfSVqmYNkg/hjfGgx/svFfG12/6uJ5oT0w/AfkSXvEdASXWFvCFA4zV/NP73EkovA2hxsH2HwSnwpduBAAAAIAGep2pJ/wAAaKq1mg4G6KUvm7CH/M6uc/RyEmaeyVMGAAAAnUGarEmoQWyZTA//5EAAAO0e77QnErVOEEivdONkLK+AkG2wmeFe0VrY44eAW2LaK66W4mIjhRsUFxWNFnUpUPPnVvdsFN10EETrtkri5RkJBSs4Ui+vBvlcyhB86iewvzr3+StgHgLU/cgpfrOlJC1NtsJGWhyrDf4/XbQDXjcikIa+lrqugPSkFrwWCgR5ixuHvVv8ym+V7JF4TsAAAACeQZ7KRRUtfwAAWqgsfPJQZ4RJGgAM57uPm1p4G/k/QC5JneOGsEkbl/wFvxn1n+ym2P3b4R2pgAnhOQ5181K5txbThV1zs+tWoqprmUE7ijgHoal6WvqOotBN4S5uXiW/EkgRB12zIXc33A0P0sY0qQV28hyt2m9ISTKM1axBu7pGjx62o3WkS35Kc9lbkHStyDmJAzjOsSzPfZdse2cAAAAzAZ7pdEn/AABovwy0s1OL7EBUeDIQy/hhPzXti144ksTfYQfj0uibhvgXMnTWLNXEjHJAAAAAfgGe62pJ/wAAJ+6ak2fmdJ9vHvgPCCY2D4tFZkgrMetGUTWFQHy4fGkNEivmMsC2c1CqglgOUZ0V266fsHw7D285GtFHWNc0HdlvgsSLsuuPTJdxsxcsf9WG4Ex0vJ6b0CUqqoV6Rhz/fPlOQhq+A85Cp9vXQgLVnh7tVldkmAAAALFBmvBJqEFsmUwP/+RAAADx77OaH6vGkwub/+uA4LQz85P/gN7NLIgxpaN61s2BtgJv4qeYHD97fTobH8KUTD3tJRP1okQp1XQaaCAqLqPnZBD8ZaTL+CYbaqZyBN/rUikUb0pY4IY3en3fUJL6y+KWvOZA/qfwu4tEv8UR+glzAkBZ3d5kU3b2yF53IsHdsPc4clzquicviyr0AIW3ZFxP/K5dEtLgFjq+9QdH2n5Z2CEAAAB8QZ8ORRUtfwAAXOPxksXW5aTrqIkxUbvLxQ03XmSMfD5X3Ru9am7OuI+mr8Ksz266CJYVqKkJ5IH2t0iuJu7U6BoANngrIQK5WEzw4YIY6OxOhE4DVI7rRFUF6/i2Q+3v0R7l/tvXc1gGh1f24nK0oCxFK+zHMprc2ExqIwAAAF0Bny10Sf8AAGs3q27OeTWkku8evl8dK89Z9k3WMz6P/F6GmcS2ZY+TP26tkbpN2Lc0fuQ3RQmTKdCk+cXBlHQHj0kzmZALCsOpVrRNkCj3ABS429OTi6mV3tMrkYEAAABSAZ8vakn/AAAojTEKo+LK0i0Isz8BE3caqyL9OE/Me1hjtluE2pycdgRMulUTcEfXR0VgVVlVBIVjUVVbYLmM9fPMWhXYXgZKe56WTPBApjvcAgAAAWVBmzRJqEFsmUwP/+RAAADytruoOUf6y9/Qq54ct1H8QMU7RuXacS6xc+PfDtEQ5F6xMT2KmSaqN4jwTVzzlAN8UQw9icwah+J2hieoVZUSmTVcuy2D4QSxZrpLNUTPIMRbR+naBlsif5rYXmLQ6jVMZCBe219NMquRZXndXc6iCZrXXgeVC/dyG5R0PkFKMR4g2g6awye2LmUwhtFD55Vvf0q9TtW3RB+fRSHn1Rd64Alx7AUnGecXcB1iXYSYh2yORfZbgHow8SxJ5hdBzfR47CicsTPUpEoh2VDUcrT6BzP68fdraIOjJt7VxKa1THunlNrB9OEZxHm4dXrHBLp5UFwZGYG7F2oaHROaR3sZ4MKkX9pWQZmcZDhsuc5AuUwdzNPo2lmoULK6UPwOib5sO3q+E13hT6bGAf/ofqQfRHxPjvwgt5KCvHdFMp2x7qGan7KuOG6r3wdgFGRaHGJWXhCgJR0AAAChQZ9SRRUtfwAAXM911jrZYxeustKmm8nmSqMQ4k44A2inkjgz8d5StflUhmO1Tx8Z2gPLznJM7xw1Vb74XP8DxJkD85bgzGBh1oMTvH2b70eMJ5aH5DPSpgu6rCtnwmXkQYuzIRIR3bCPENUNqEP1qutorKoMOw07SqVGzift9gpu9lqwyoaIbN+DbZrFXOyzrtzW707w2E/2qUdHuyIBne8AAABgAZ9xdEn/AAApDk++3qNEnTrRuq9EXk6agA+cTpDOw+xAfWu1EKxQ5Fru4eLK/P3MR1nFyztv3a7C8e63dp18Okxy4tSX1yOO3UevTsHL/XSjz0C6h8qzvMm6lRmo5lrwAAAAawGfc2pJ/wAAayQ6aIip9hKCev4+pL1rwyJZ73+GSgulWRU5GSOoQ8PQc7j7N/RmR4Lt0ooq42iDE+dq7UaRtp8O7ZljPD32eTXYZlvLT/F56jtc/hA6E2/o7KYgSKwz/jNa0ylfOvr/cLUgAAAAcEGbeEmoQWyZTA//5EAAAPKdqaCeU0qNQcayccepqZ0EwFhU+wrtRMBRkCnUUL0PXG+qTj9s4W+WGZiHJPtTbpOTDrfODVOShMq4B/yrlFatkl6axVZ8cMuM49vpLLlnqbIG/PFX6dRG2g0rSNINN6EAAABvQZ+WRRUtfwAAXMnLwGfg/4f1/Q5mcNCTljXeIzYhNzdTN4Lydi86i4WLWrbqJa+MxqldpkK12o0xC5LhbeIcV5NNLMezANFnghEdnsaIKr/H3YddwQcMGvpenlsKlKqWBkHANjWMxeapF55pNR14AAAAGgGftXRJ/wAAaqZCgg/5SZ6H5A/cTKtlITghAAAAXQGft2pJ/wAAarcii+VDmu40texdx6hqGYSDVVjY7goCEA70mR/Z3R05CIsg8EQLB2XTGZOUXkq58ix2feedHnH4U5Tr+ZzWUAKOshIlrEUyyYUFBgCY1mbF+8iNgQAAAL5Bm7xJqEFsmUwP/+RAAADy7W1STSk5NL8ELgMBJ1ntMJKt6H9uiJQMxRsewW0rcxK0Jau7hD3aj/B2SeEFpn6nzDp3R/qPVAlvV4QOVgVjM5GShY5MrRIAQAYa1rG+RERa3nLZKIoUe9deAv683kM9yq2mRdf0ADL5i6lZmO28WdcW7wAi10oabZUVwydAlCvl8BiCk7/KKjKO55jusGImT+BTvepZdJywC5flCkMFUnBWAirJgPlDY5pZqriAAAAAZUGf2kUVLX8AAF0ooux4WPvQrttH+5thRPGfgxyBwvJ/nzZ2tGYscwgYkseBdjjpAfXB6H6oF/sxIQBjb2yzTdQiF2/39JCgba4iwHT+LK/jktPO66eXa0UKm78J7z84kBCCBikXAAAAagGf+XRJ/wAAazXa0+gpVFWdItgFJAfc89d2Qn92wvioZymv4LDZWgfESuaK+wE3XQB205xViO7oHL9jF3eZgIU6+opzUQn1wGSkgE8NiRYCyHem96JOcb/c7XjBePZPOwM1l05VakMya14AAABhAZ/7akn/AABqtrvGzCfJsxYf0TMwfbOxHz9vEODnexXoSdXW7tZtmDwcwbU8i8D8nb3tO5uhHb+agwa9i6DA76R3H8Yvytssxbjxhp9gzu+Y3xWN2mzpLp85cDsaCW42vQAAAYBBm+BJqEFsmUwP/+RAAADy2jC1V1+S0HR8tpHlgC9hRhQV8dfBwJzMliFLofNzNVg4PXoFQbwtC7AtT6aTkyDP0n0+BvRMSrwSeVsfjOf+NxIdQTC41kD46VeAw23h6l/bAzWWFdgf5uimzqLllYfnW/+cD9WRNcYc1yPaKB86aOvxnnP8w8B75ol31D8C/8cjY++y3we6X04/vHRqPfPGE8F6P0iakFVh07pObydLCS5B7Xe36voZK4N+g6uGePMl2D02AjU7+AkEVQwAtBVWyuaB3qENRC4SR1VOCE8GZfMAZh1mDf1ZHsI4nJze4SDnvLDh9Q8EEXVvKGXba33/GkJG8OJekIk6HTCdgxVlvM4doek9VX2KU+qgnVlxp7o/zLoCDynNTteS6CvOaNLMXj4sV05EdNssmpipsgvxQRE6xV02pFHlDl9NPQpws1xc5DbI19CirWVufdV/seFqfCGGpN6CaY38rtegIHJw1wrySEDsHcT5F5JfIMzMWc0AAACvQZ4eRRUtfwAAXSabxWjFzszEWMENVCnMSNk56tfAZtaD++uA9FQpqQ3gVyXT+BG40VL8t0vQCpKYX1mSyGogVo5cvvXXMgACVm7YKmXIOv+sJmdIT67zjBPDzW5vlDLNt/76j7C6hj9IMFOGuL8NZrAs8m8BV9kXQXXay3XD30fP/8J9kHwKCVA/fp/ImZxSTmimN6ebKuT86+8q1tzRPSb6b2O/VUOJrMJGcd97gAAAAGwBnj10Sf8AAGsoUViWvHZo90a0ZaoOm2mpgW+TDB7mE7EcG6djehfZ0SFWtre5nFY8UGPrIBBmWPo0PS/qAV7qIZQx4ezpg/GuqSQM6kiYUNHLREycbnTqy88jrPM3jRlLu8A9tmgDlaLFFqQAAABwAZ4/akn/AABsRTWDR99YWnID73BgWjb8CTuJuEh4/IHYdQC3YDqS46plEB/D2XkvblAQ8dQ9uX1n30j7tRdjRRrv1vOYQhmicKFVVkoNooxkTiKZRWkuXPbplufqGFe4Dzp738vQazKfsfl9hK7UgQAAAYtBmiRJqEFsmUwP/+RAAADx4VWqqtzT8L3zRp+ljoRP+ErOr7Z6wqJ+5YpoDOPv4ivjJj2OUAS7BFB9ZPGu2WG0qcXG4mWwYhWl9yqvEJoJAiQJ+v7jAfeTWCoNidfiY38VvkATcu26K+I1urfP32Q92FrpAQI8ia0KGpeYtpXGMlWmfRNl9/ndAWUVMKVBfJvA0ZUHprRqg8WvR2iwoY9qpn0o5qOfeLv9yhGvfiyH3hmgXPD6yTUsBBVKlbPmN1PfuLieWi5EHAZd1k3Xp3qoOiw4dWyuLKn/KMpae+7etZ6ycXSxm+RINqd6kiHqL7a7zR2+THhHJtu+cZaX/YmouPUMyFTG2bwEjYOvuBs9NdldCN6N7i5CwwaKAof5nzkoyyvTaahYlStu3FNlu8cztQ6dkAM3kA4Sb0XJ6fZfu09S2jnOz8Ov+1GVWs6LjzCCrpds7MdpFPChTjokOWLbRhWpgeAL4Jmy0cSIN1+B+/2SC1y5Wl5lkGU8TDnaCjkpzmX7X8hIv65v4AAAAJxBnkJFFS1/AABcydkihYx4NP0eFvSMzomVVwLiGUnzIcpIJS5lvlw1l5NVZ1vw9u/ziSmZ0RhvhYXKXarBO65VDFtUL/3J242lClFqtL3kob5R4uYPD7VUO1Gkmns7VxODQAyuhpkLGGjAiC4B1ZNX5oWvt0NKcRrY0w/vQvVjP7TWBZfFw1rQtnzqhUcp2+BDzhLjhgLI9zT7OvEAAABJAZ5hdEn/AABrKKB+xVpU7+OQzPB+e4tPYHQB9tBkK31TiEcE9lD0pVdDslhjxfXJAEuXCMbQbzdLoscU8ykXJEHf570kc3A2pAAAAG4BnmNqSf8AAGxCHqIvlhCQcs61RrybfDEnpuMFAmSzgGoKwTYcng7Pj6g/A9/UGMcQXwOUWdg7t5GiIR43QVqYMn0vhhELhcFud4EF+HET6PW5xJ2/wHLJyLRM8bSo2K5kIaWk59btzCEQJZ2HGwAAAOpBmmhJqEFsmUwP/+RAAAD3YYtMrnRHLfi+n4lj+iRmx3zzpNjjL8J1vUIgLg/bG2ojy4LO/yRaLueK2xQfYyZuKwf4aWJkeDBmZL6j4dfjc/+knC/jpj0IEKLKjZHN/S5LagDbwopmt0W+hXPMGYzXSNPbc5YHKyyzhx+Z0x1oqVQ/NMH77gwyENUmcQMSMlCEzN1YF+ZzH7ztcaMJ1IlZe9xfP9wb0ypzFhfdS592uGCayCx6uZvHWBxdtB7BVloHS1qT8f21GWfNKyRAGcKGyeCT8q7sf5KrVe7acvmQbYy5BgEC273Tq10AAACJQZ6GRRUtfwAAXyt4+aCCGR5sZkCNDlKjGXOwq+XTwP5o6fICwdtFArmcuwL/IiVAfcQhUOPdW4pJxbXactPWlcI8c7QWDjgO+Tr+kby7q0lg2iMNwGS+4mpbcXZbHpTZIAMCZbk0wikoliP52+LocjhHuVIa8Ff1VjIw71YgWR8kIh3TBG69G1MAAACWAZ6ldEn/AABtHjjdKdvPHMQ616Ji5TFjXHpS2Wol5Xz7gO1V1hX3Pq84YH3bTP+XHPe53CA6MgXWCDVRqkrAcvCDLFLdyeOZHbO3+U8Epkbfq6/rKGzP7ZLEgcswgW7JokR+7QUnHfblXKgxz705BEnkaBsQQ11XvE0xoHEQYa8lSOtj365xAx3pwKHzN8afGfurD3uBAAAAWwGep2pJ/wAAbTa7yNWT5TnlYZ53a2bgwxqQPD2FquFX15ClzZuvIX+k2ISsq7TZ1nOwI1vwToW/k0kOPDdrvIFMXtiXoJ+EAeEWBOCCWHvlSI2jXnPkMbSfOvAAAADOQZqsSahBbJlMD//kQAAA+RxZZWHvaA99MUyx6WqHGP6XZN5Thh2WaxaZS7MWzt7xfvpXz/IJnaCSDYQ4C+yvU7Wmw9mXVnTgzTv87awvcbfgOKph5cXd3gIAXfZBfdigre00oyljdR4S2i/XHc/LxbPI4vbAfbIU7Hv6+0g5PXaKZ8f3UhdhaAXrKsL8agQznmt71v1yaDBBoYw2Wmd962WhSXwpwe8e2dLd6hq6gezWhU3SCrEwvxE3xAr2gG5smtYptR7UsOZpUYyWgTwAAABPQZ7KRRUtfwAAXzIg66CHQ0aU/xB5aM7yvH10EaGKOo0pUWuJ8SKDCUHR0twh6zSLCS7V4uKAGGA8VhzUQCz5bmq4T8n/HPNPqSrfgbq1IQAAAHcBnul0Sf8AAG0a9rVXJ8Vu03s6tqw/RqbtRFbSIHf2IqOffzD8KxWkzX2FMPiQGeseXZTeGcRkO2skRzUdjHfj5Rlua52EURZs3YUCwLddQHEaKeOEUyVu2+lGotNeUWah1GrV0vIqT6gsjhrb57WsEsbLi6d7gAAAAI8BnutqSf8AAG2kOD/Mp3MF/RkmO+itTPOnO8LFwJvipqb0PNMbJKID1IeWAnR7cj6NGyCMfR7RU5Ijq3HszszZq4j2eq+sxESRnVXu+I/t3k/zYpgqxyFq+UtM5UIBASnhY90+B7IsULHE95xzdjnajBPjklfqGDUMKrhJpyz436kdI68qf+Cnnvs2w1MHuAAAANxBmu5JqEFsmUwUT//kQAAA+SD26xNflJE3OliSwC/+FX44v4J4Ikbr4zrRInQsDbTufaJwny8BTIvb8XP2NIP0QupLAL5HFbSYaCjvYZHOlvn67fePFT+DAbNUny/PvaphzPjJAL/Z+NQbg6shjNyGFA6AyJ0lltTsQp4zvSnfa3xjvLlpWdqSaLKPQ8E5a86guRlDLO5YlykXu3e7LhFU4JTHI1f58NYuAcJfcb/ysh0IEE+p0dFKjSbRWuY1CJpuWKUS6YFj9Vohjp42bQUaqO1Fe6SLB/2N+kzhAAAAQwGfDWpJ/wAAbZmAl1yNDR7WIPLJ3DwrLwExywIitZlBvfW/fjpt2YThigAQycXgp0d9+1nVMxM91pssd3l1xoU+RYEAAAEPQZsQSeEKUmUwUv/kQAAA92/eaVaTkQF32Gxso+scqAUDG1BSs8SkgDfQXKdA6M+k7jew4qI22sFhVXLQ5K57dkm6QplsNxxiz06LXVo9+r30GwaJg4x7+SH4KFeGOJgXJ0JEWEd+8Y6RFx7d5qjYvfzv+IhPWkMZRgr9XgG0PDcQcDxKz6EZqzXpVDGuTeLLrr6WZ8nRELhhTlfNKU9PR8v8FO+DeD+zWyqXTGG+j3MJCoLrDS7gJABwkwIQJVlhxizn2T2iWSPNF1KdXJ2fVvvKKq1r8nuLB94pjn8HH//j/4tfnuJwtylgUzaCOdmDZn3zQJ8z8oFerZPVJf5KcdDnyaTvZMgkkI6tpftmJQAAAI4Bny9qSf8AAG4NnvVmW2nr+E6T2biSzw/jN0BRs4/nOJ7ODNKbifZ6IRiuGPuTWGNkP7FW3HibLUavxpygcEZFA8QiNi03dICNwnD3+ATj0dRRa1vSgUmnhe51bj51X7OwMiCXOYnVD1WUoN34SoQ7iFANYECf0BYoM4eD/+AA4t2r7ExF87hClgQz3rvcAAABIUGbNEnhDomUwP/kQAAA+FtlGNk9VqbXyywMYTgJHgXgPrg+mjpVdvOPyL48zA2a74iz+HOZ92kOVRItoFVZkyCsEg3XAI7eYuLxg4RXX/KQJEiVkZ0D0OSM6Q6STPU5BSestAY+zx14asVOo6J+7EsFQWDE3gnoyeJSV44Kl6qLC4R8ZNmMyCObDNEfZ12if9ozCto/UHfhx+XRUIQxZC/6wQk83s5ZpEtdL0bMCZskob4dE2cC9e7Y9d3EIab+5eSSuEi2l6vZ+zNmX/1TkuZ9elFquVQmPjUCJc0/hn3N4zOY/1VzVBXJCN3Qwz5ehXGzY4lEC4OdX1uC7a6cjQ6LAMptZT2P0a6C/26FWZpyDOD8jJwWtglyy4vGjtRJ3oAAAACdQZ9SRRU9fwAAX5HJy+f8ItOdApJ4PXWD0TqQ0mh1INoAVLp+IFs4RrY73FBC8lZbtmkN9T1PypgY0C/5z7dc1pT68SNCXdOICY1J7t3tIyPRfc4ZN5BvW4BMI//2NInoAG6zpA1iIm3eayZFRo5cXRHUbL5qTFOoDWMLUq0o2QAzLnyTwak/dNKIx1kAhi30w0RzfOIIzbX+8wLPgQAAAC0Bn3F0Sf8AAG0a+IHWwqSH/KhbFvouyL/yQTx2ou151O3qe3bjhPC7Vkmk8gwAAACBAZ9zakn/AABtnI9fu5hDwaKSHEcrwc5nBpu+OdtS3THCPRNmXrvYcHlnIYhUBdwNP+PoOO9gtTR5hagid35X/ILDHnTVw3RN9yC3tU1nVvte9F+Hu5csmUMpnlS+CMKQ/etZo69MepT3Iia0TTB6WxdFsVqNuF6Pvjh945g1wOyDAAAAz0GbeEmoQWiZTA//5EAAAP55LXXZS+CHP1cBkqtYHIRl3YYtvvDFUo6K4vd/3qYiIxk4GEq+IFVLBsAJLwBfNwTzlY7tddrMThevyphljybKdb/vn930tJmFFPtSEjuF9OKHDewe/pXmqO2LA2ZvVdzL0sxvTJSWgBkPer838rQJgy+zywqvxNKH6kGWrpCWWveNR5RbjYVCe0Y3VG9VcqvlEAokYk6M2zmeVaA3ktpGS7RtgADG0gTEXKCbDsGy4KZwOXwD824JXT0nxtlmgQAAAH9Bn5ZFES1/AABho4/S2h2Wve8N3g5v4zi3EblzP+zXAdAL0kRUJWeFKNwyo4OjZM6Fjj9LP8ciRG3hEE1sU/QcibWbbDb0yBP/0KgdrAqtw0+PEOmbIedx5LP+S81DK4ePeWgV7TeJjigpMlsKeH5MZgT1XL5zT6r9IkYDJqwEAAAANAGftXRJ/wAAcEyw0HfsDfFZleZAmjRR56h37cuH2huTfmk7e446CmKarHIALocngXtILkkAAAAlAZ+3akn/AABvtfZcEdjLEaXJpYGTMs3KfTWBmpC+Q6Tml/7wgwAAAKdBm7xJqEFsmUwP/+RAAAD841pjqjGtKY7DauEproMU/vI1nqm6gAMZg9XWF8TNufefKMNzsgni4OkPcTwIMmA9mAhVPgsRS56PAfeR7PxB4lsvaK4JxCIQ7dhN8DlXGARQGYHcDEm60jGV5Tx+xCacxYG3b3/QDLILvhL7Ow4iToG/6/OJ4fmLFFX1KDEIBkBMRfBfpMh79hwqYKBCC3umExj/TN95lAAAAG9Bn9pFFS1/AABhSzTPTVTf8fxcVo1mJFDou1N9nHpsyR9xNu1FHCI9uzEGfiHkUW4hz9Vg2pHe4Op05qG7/XpnWi5mFSI6OslpUXz1d2NULLxX4PdAYJtIWFhDCXaNjjTMPKcE/0HGwElMs0W30a8AAAAkAZ/5dEn/AABxbFXy0D3ODQDLk8jrjtM9RzuZRoAonym2j1GvAAAALwGf+2pJ/wAAcU4O1WDZfBgZU85eJvQDcauhYTC1XIxbAvl75le5mIvEortS/Q7hAAAAvkGb/UmoQWyZTA//5EAAAP4Xz9rrQR9iHfT9ZQSuDtz4g/bQ2mjTb1IxTzLG2vbSm8pwP4XJBBBjIMIOZ6TjLuJ0LxBgcxfxsyLdpp2gAtl1lMnkFi1TcOTZIvlGCuZ1r3MmxT864/Fc/xm7V4T6kyJqGX0DO4PwPj38v6bFxR0/cqTabT2eq3X2tUc5PFOBh6t/r2BwV8N7p5j3Thgz7U2vsjbkWwmMG/gCSjp5R+E/raWlPkjYH+4hR0Bl8eEAAAB7QZoBSeEKUmUwP+RAAAEGg7VO8BfR6TRZ5+dcGDcC8HTWZRHNtYxZUBQ4mCCAEEkcoEFlqF+nMwcKUXTsizKyFAJTsOFOePxKsxz2QdcO9pM8WN6lvKWXI6kVNkuWfnwCisPrTkPPMR5uCJik8csiZresVWCNfv/ia7mAAAAANUGeP0U0TX8AAGSSrPrMCS2OV88Hq0vQTO9vk3Xl0p7/qycfuYu0olg3B8UBJZ4CJBKuRGD3AAAAJwGeXnRJ/wAAcyetOzjAAIKoVeGos228iTfY863kCjRu0YOL0aAi4QAAAJgBnkBqSf8AAHL8lMFqw57+lY/HYUdeHKFjSMOtmGcooPep8jcG+oYB1C6RBY2zWYjdJPNOr3Gpr45nP/pLIWUCq2Xln+17Zad1AHsnvF8WKtK0F4WjKmq40zhL8Dhev1WnowtlWu4YpCHqCx1FhvZPC+MlSy4mG9/77Qe3bMIeh5qEm9vdG85pOWI9ItBehCnBsZVGt3Ry4AAAAK5BmkRJqEFomUwP/+RAAAEGfgGYtjIF+ItIZki7timgtT7gJG9eN3LbgMfelC/SkvnzPhE13nTPJ98dh94XBiDYemCEeOtSDRFi5wq7Hs8fqdhzSxOJauEqbnXbAbHcigCNgl5ESgRFTfuScWO6luVKRiINd21/Nc9X1BROFXMW7NOD+N4nBRdy6GAgJB2qR3VIisRP18kLfHVDWuQ1+2zhj5YuOA15+znWvnQnuhUAAACkQZ5iRREtfwAAZCOSeBK8LX0qq1uKofw5yAcZNrCkKvuurNRFw1PQq9U90cCYNrGMrw9gjAQ5HUnL9U8RbVHHqQzTtklXWGGhPBxcc3sHUQQa1oTCk4xCsyaVyKBDMH60mD3FdCVx7hzkyHdeYgC3Vxv+ZFbGPbYmitTbIJLvJLaX8AGmOpoXxQzfcBE1UXigJiG/WcQ/T02PqiH+TV0T1HSbYsAAAABDAZ6Dakn/AAB0H+hmgFiJmU2nSNOj3qLwBlRpDM6jAJgg4fHFaT636IZEaOnHLDRxrEINBsonOLcS0wP2lz6vQWhtgQAAAQ5BmohJqEFsmUwP/+RAAAEEOEuboG1kcA80p1NKnPQtMKiUEye2jtWyxPzRhGi42RnkYDX5jm+LuIR14DakA88pD8rVUV6kQRcYnYRy/93h11EZYdqIsyJCWtE71ib0A2aYgBUbPNPqBJZleGQejxC4TPZXw0VCp3wbmV2uu9x00B1Vy3R90j75HJC28wT1MB89DJUQs1+ub+LGRRp+TbjQ3y8zZPWFCbu5ARshFq+3ZgOLsi+f/fxCRE43EXl+UhR2+keXHmTqX2tf2ln0US2o2bveqOnclK2ATUDIZPk2WIUnCf5mwHCkD9z2Vc0A1PKvoK2UfM9NJwSor0ueDweF++3PypvRh8ISfepQpKkAAADNQZ6mRRUtfwAAZCOlmD8bKR5giPaaxNLuX0XOEY6SnDjyiddDlyTE1wcvrJ5jxNvG9hz99U90pozJ11kfB/lY38bc79f4UojTo4G9Va3T97wHxFRdHp99FEtUGwbny7DyCl8xMN+PW3PteSnMFj0Vf1vwHDqXNkRSIlpmFQkwx2rISdSctnGvj00to8FstKLZenEQf8R65Rf3BIIXLlRdF9VDPrpA8KMnpX9TxNUGkj6WgGCQqnJN2ndeKpNnvFLSOvEB842CfbSu5mtDFwAAAGMBnsV0Sf8AAHJec/IsEuUgMFdb/RrNd2QIKPgn1UdzAWYmVxO5FpINy/wRGYSIB4H7tjVdE+UMYsrbsrBADrhNHufsT4/ArbwN0E9U332CtfHy/bWn6YNKQj0uLFuzTfAt9tEAAABwAZ7Hakn/AABydg/NBfKM6TfemLp+60bVuWSdsdv42l5z8XV76FfcMW8B76aF3ZZAIz9K4hbcObHUF4M7ofe8md1Sc9vFCQHv0ltLUZzrxx7rtDNE5pnWuGOp5ZKzzm+9k3ZkxzTZXzUCZ3/fEYn4EAAAAH5BmsxJqEFsmUwP/+RAAAEOSHSZGznUkbtk80OU8B2V7JuZwv0ncnBqe3+mjGmSIow630Ia0Bxhmb4n7clA7l+7gxKNXYNJLVcuDFJ4OkojxdsDMqBqSNMECT/ANrp1W3GXj7l0LCrjZy+HhhUBSO+efmByr7DyqxAPrQAj4qAAAAB+QZ7qRRUtfwAAZqXodyzgARv/YTIDrRAOErgy3KI/PF851CpI5z1td1n8fnu2jTXLQ56LFQRTNUaExgtaOqr83uDfwsQTflRQY+gHoiLI1bOHSJjJ6RMBzifn2k9rghzJ7PDEePHUydeRJ/OuzXj46GCorRbwbgTRpcX4wY2PAAAAJAGfCXRJ/wAAdR5wi27ycIRs9Hyog4lhPtMp/RZlzzaZWzJnwAAAAG8BnwtqSf8AAHU19hXb+SAeZ9ju2sbaphJxMSuS8d2UQlzBrWYclGNjyND68huVfNf+kMbo+GT6Tjocnat5p93f7ZZ4IZTJlybpCrpn/kJEv3zqqRpfOGDDaKVp5z21TdWuO5QYiMacOPBmyn3ybAgAAAB2QZsQSahBbJlMD//kQAABDTJuoUh2HCI0QrRcd6f6QYdytrj4ome3dnou2qjiZIewofQa2xFPMaHzTqFCGUGAnD6LM8z5cB9CuhpX1mExljFevbSNhUrXRzP40Hh6sncCd9/HVAQDwclV50zJmBlYMIBioKfs4QAAAJBBny5FFS1/AABmpeyGfND5N+e/sv9KWvYdFJOp14gKXUa/KCoIWj8hZjHumTKd0H/IHTpLkD1IqG/37Odtyx00cth7vGsF6TPOxblOX1OGIoK64JhPyeYgmxXC09MYKpvT++gjLq5nFK5WiTrfUAeD3RnqP/H864chdMAn+hdKrM/IMtWDNJawitb9cYU168EAAAAmAZ9NdEn/AAB1HnCLiwgtg1SicmftkAykoQFKIbnAKT3KmcTz+vEAAABtAZ9Pakn/AAB1vKsJB0IC/S4WCtaIe6J/IFZZxBgGdrd+1b0j94wVf7jNGBJ32U7pgaJUJsgXLwQI2rZ855lQtFmReJ2NmQwpXl219mR5WmOJW0TJV0CuZQDLq37/7fCpGOlYacKYPaI8j7/68AAAASVBm1RJqEFsmUwP/+RAAAEUOnEz9j+Ef4zBRz6An1Ve1Vw+ffaizB4D3RGxa5wqttTo9CxhQNvVvFk4KNlQwAKp/SpruLskWNZKsrM1Nvwfs+pWGwXYs7gpONIp2HXuocimMC2/h1MmiQc3Ephvb3NmcjWouRPpPQXHi8CGuUb08NReMvEChikNY5qS9RSpfVz5KK750NKvWYZP2fgn3fp/S+bVZBB1YI9fy2omwPNaf/cxmi14pFePy5J6sB0LjSLJqIsUInGsMfF0KpHi6it746fIfPM96S4JuktOwMCJb4A/x6ECqLA9F/jAKR471eYR67H0v1P615vu4EEjvsPhvo/JSk9x1NoPF8uO6bEqDS1P+s3FU/2AEaKaAhu5l1PFZneF9wAAAItBn3JFFS1/AABpJe4z5hZbKrc1xxASHkRdiAOXW8j0PmfXYDxPrKR25OCVOyr1NMQzR+UMsgpoflYp6Wl5RSM1n4fGQy7/upw8hOEsS7xBHgYtZieIqtnHq4SPWwWCIPvOE7yxUHlelqN6QchRqna2b/0dItxZnQbNgt4M5Y0dR1sMHZ1gtvmSoMrvAAAAZgGfkXRJ/wAAeIcP+n1Zl8dVarIdH4l0jvie9MFe2ILEjwyEeNYOH2sEF6qLbEiTKpYhXnmQ7ZdLgC/Wg8+1y3Yc+WLAWeh7SABxibuivSHYUV8ErTVYUYVQuL6a4YMtAeSjmONdwAAAAHgBn5NqSf8AAHf2CRMPCEzDUvjrxii6+7ONS015j13WgJMJOQtZNVrg5wUWzJKtSMkKr1C0L3yS+ZWfCHChiyyy4sAfJaa7djCpXINYlbO3T8rBbCN58NHyz7XI8UX3pQY7DoBB8+Py42dSjITJUX/S8WLEiZqnXcAAAAB6QZuYSahBbJlMD//kQAABFDlgza+gDFdKxBcam6c+nl6Z2Io81DfVOvtI1CV3jB3P0AZuqzBr/37V6KrIRFBUirs0rC44bgYP5TYkvwyuKnUQk71jwpIsLDbfIL4g3GTzl0tKiy3pMkK72wzZECCa2oFqKc2poNAkJpsAAAByQZ+2RRUtfwAAaZKuWPNWksoobTZhuVT5U3n3HCWWffgDQI1N/glvXIDQK6y7zihkyNJR/I6vPQYf6exuRzqBSNJMcEiYRN63bBsPrT+AYuCjxv2isIUn7Cm7lDIAW4zsC3BqT+/oaXbCFaKJew5509fgAAAALgGf1XRJ/wAAeXy9lrMuK6g4JPf1tjbd5DHm2D4o0EB1mEgbtqBtg53DxvSRWHEAAAA2AZ/Xakn/AAB39fOSdHJj2XTHx2+KD/Sk99tAD73CToloHOPJzrbCT1uI07d8faMfvO6q1ZsPAAAAf0Gb2UmoQWyZTA//5EAAARQ/O+tEVG9iyXiKEht1xMPqvK6JDcyAVOBYBe3/tBLHRe3N0jiowyZ4jsEFtZcZOGO6pYDbJXG6qSnL6g9MC8IIFUVfLJSpMDm9onz0PUIKPsn/DAH1iLR/B0c3hZXsvqeOntpnsOH6Rj8ZZjz0im0AAACmQZv8SeEKUmUwP+RAAAEcNzUzmmEKXguRgMlYcZevsXGtYqL2v32X3NT6blJPYTeCbOmfFyGcO7zWEAi4DeloTJHq4JwTzIpA19i4lFTPODotumnZxxz9t+A96r/um01NAgT+TNlHwJv6ES7fexL3XqWu8qyUgehdS5sktU3wfkQKA74Tr1KgdbjNH2GmjivVkKU202OfreeMzrRUMmkJBx5Q5i9BKwAAACxBnhpFNE1/AABsFwv8QLQIKUtkL7AeluVzNrh+pWEqISseh1BMYU/2VV8aSAAAAJIBnjtqSf8AAHq2BFEVYyYxvWc71WLjxwM2vMUdEvhRMVYTRE/jC4vfuofQiWCqEJdiW4uj7a1+YHmphZx/GWHyJcfI4eaBUhbKzAUdKXWs2PM3Ig5Rg7qtm8eQC04IQhqGbNPHh9Tse6kfX44juhpe0X4jB33Jqk2kcNrrFwFzlbD+bwGpvvw7Qs6+r3YfVZA1QQAAAJBBmiBJqEFomUwP/+RAAAEcOnG3NC+8JlhIUiCQdwH4DqTXScQWhJxitRtrbBgDXe31xq9CLrqlGg/forkAnzCZv8Tx4HySsTm1Spd7+J4OShvDQNCW/BbnVshtooDJf1KF8rdvDDfCT2k8xqZDsZDJ10oquoPgh/NzTZEq65Hbp3SGNlmOt4Gb4LJ6h6V/Q4EAAAAwQZ5eRREtfwAAa6Xodyr1AYc5GOnzMkFOMPutGSGPLHZzaxb3U78zVKiYFdfeY1tAAAAAJwGefXRJ/wAAe0cVxUzys2D6b63gH5Oavmm6pqZA15TDzJwifqRlgAAAACkBnn9qSf8AAHq19hXTAiz+xXQB9pzzS+B3+nqbABKd+z8bzOiHqJ/WoQAAAOZBmmNJqEFsmUwP/+RAAAEkOEeAObC+jqDv3PW+r3LN51QSuf8fPGcfWCz5VdHFliv+4mN/jd0u7FmPwbx/LxplDOIDFz+IfqMXn6ol93HUsICNojki2QiQgvxaOXmyK1elrkz3bjZzSIQSh7cZN30utCF3XK492LWIsoTqGmUjt4yen9WQxxrgwO47O2UOndMdmlGW6GcWbnofko+54zThcRaWaf1xMPlKhul2TQxT88RMYoN9/l9JtpqubAmOMknTKfrUh2rWigwqgs4DkBESV+9VFAaK/fDZ59kUIVCndd9G2QkdcAAAAIVBnoFFFS1/AABuoEDppoUnocSL+lbxryx1dugAbSpVLemkTMf7vlCzHriT6eGnsP+oCWS6wcIvF7ump+6+ZoEiNb+oFWiLv/fUsvkqQxwPqO5fX4LsBHV2h3j341dc2SYW3BQavjt4T4rFP51ZOtoXUWxgg0/ZE15mF9v0PuMtohr62EN/AAAAMQGeompJ/wAAfXXtDu3FxXKcL3pkGvPDVB9wjA9xSV6mAl0A178+J3mhuu23vMLR62gAAACDQZqnSahBbJlMD//kQAABJDlg06eLwEuy9LTsDO6Qqvvlb96Jp6qVilU8VZZavk6ecrNQZngN5KLiuIfoPbieKQtbjxaHY0J6e1jbC4hhtKkkOOb2JSPlFGGE0ODvJwT1izABZJx9PZ/ilUmcw8vnwmZNYa8eNKcO8xW0jH7aTp7aKnEAAAA8QZ7FRRUtfwAAbpKr+aTxeQMmb6jZ7efuwa35IWMoKtOKdfq2QeHRL03tGWm2GvD06+2bss0sEHOtS7TBAAAAPgGe5HRJ/wAAfgeBPTBW0Y5WZVX4ayRE19NKFxuYYZ7TABkmWxT9dDkxI4YsQLAmxbtPIntA9xoJd2trFA/hAAAAhAGe5mpJ/wAAffyZ+l8jIIAf4CVUSprhAmdXiIsvMIO4CKw/68Mw2AVJdGlYrcm+42/yelJmFgOdwqmrsd+EUnZ85M02VFOj938kvzVht3EeU9zSvPHw0GEjM2CN6BF0TkjxNyl3zZlklb0eJWhsnz30aOBcLFzOEO1U37ChJd6+trdVgQAAAK1BmulJqEFsmUwUT//kQAABJDVm3LhIvNmUt3hqV50AFxVKU/mucYQ5Wa0+OPZHvpWS/8f3WcCkMdqX79RKzRbfwI5YniwSLZFv9PoqQUFp3LGCrL8GExNe/DlX9qKoYOv2LVeXPZShT+dQWkZiVB7ut2xaSLilzZbvvAVPDIKjexTMXiRgMu5MUt33SAE+48d4dKoNbpycHipaghMtyJqPX3XNLjSmfCRuetOagAAAACMBnwhqSf8AAH1185JzShYTYXkYD9n50OQgmFfUDFicSeN5gAAAAI5BmwpJ4QpSZTA/5EAAASWJDadDwoxfaBAjWI/P/8BbcakpkgeqtfxKubfBNp/cFuroov/gM+Eq88wtwH2vTB4CJgM9B+WiC9WwwMUlbGEooOo0nCsv+pFcC7apvmaAQKINWmDu7kameqEFrerXEd7syibRHlxpzAdfn1ayOwTzg1jrimy+AOARd3uFEVPLAAAAk0GbLknhDomUwP/kQAABLDpvhZYf4Ju0mtaNjdBZIqXcl1nAYtQhCirXCdXSfJ0PoPhbmSinoFJV8licpeSM3XiuOt9spb47uORHi5Kz9+Z9FQAWcsnQzoAtFyR+fhC0WTT++w439anXjVzJWf1nszRo3AEnL0MsfB2S1khTF5u5tJqUNJbflqCOuYoVXJMoAudswAAAADxBn0xFET1/AABwxmh3KwB8TQHrAD6MOcuGFypBqOAjDFf1+R/bLvJixAlsXrE2M1PnqySkngBYAUIlrJAAAAA1AZ9rdEn/AACAtezBboHlQzs+WCzVt79RJdGfHsEGt0Wz6ubyJWzneiYP9tNIv1bmCioxgXEAAAAmAZ9takn/AACAxywrpf/SnPzIOqt/BlNI3CocUA7RBEWS6XkVMsEAAAEEQZtySahBaJlMD//kQAABNDsqQMCFSG4NjkpOMqgUNw0HnbHTPoZueA/C794rI1sx95GSKcPtTuf8BXNHjVAmDzr6SwpMvy9FVAtxSHytQLKV0DVh1kTFNK6KPhGRzF2NkobYY3k+V9FB8x2TH1HBEfqnIDNW0q0iJuG/+stpktmhC9tIJx+uEYUR3BDCmEF1btkG4c8SjVvlWa+e4pr5m+gnV66qYXrjhUvCL8aVaaYj8Gds4jcBV4FY8RX+nY7eeUnNKP2uSdUHjEOsLaAp1EEE5ReqEcqqcQ3T+NfOfEG7sxszJbri7K20e5WYWPfvXiJp/YLIDVFr46sJYsL98KovGyEAAAB4QZ+QRREtfwAAdA3uhDGSOjZSPMf4d1zruN+36aYFDFyMLW9Etzr+qXCi6L43dxa1sAX8jRnQK1/EyJ41aU/ae27f1VCsiurI1ecpeOKqKKtRZVxYiTUwdHALbDWd19OlK4wlIrDYgopc6VeuUlfkxsg3R3xTADHgAAAAbwGfr3RJ/wAAgY91xUwmZ63IH46hpDOnaAfhMKsWV6BsGcFV/vSWKyJuBZ+/rsnrQzTlN2ClqdlVOuekPqridB29gvmbExJc1UkR7xbvFpiN7X1u0QDsEqFj3g7QxlFtRPFOh8cgFHJRTeisXREUggAAAJoBn7FqSf8AAIWJqFzyca6tCrbz614VUNKPQojPDkVD9LbvVHU4FO3vhlIO5zKyPlsORI5zQTfUv8xVUr6YNHv4a4SytZoOBobTxy6EN0SzLEYZXq1ApcyvkmUFq6ATCIA4vwRJe/DvCmd9ozKeHMrp6pcT///g5ZLRPVvznUC7xadUwhRPKrHqfP1sTSEu2wOQmzOqLpOqfNSBAAABPkGbtkmoQWyZTA//5EAAATWLTDo0gBu08TrZygmJbAuNumijTPyWRbaczDMXjfCx3omeADUs+K5/f6z9pIKjavoJbJcapbELwOdLHPPDTPYySD8+T7pdM4F/ePNLN22OMApTTlV+HirzrR5ifQDmY2NKwbPVPvtwN4gnat050BPiKfU0ZwshCzyIqpUDLfIPU5lw/gelx/mBLEJLUUF6CklCrHl46B7zZifOEImI1lSJMoSB4+RHXg7wKJQ2bmYmc9qAvbGl25AZu025Qdb9crbS7FVBivnKrmI+XirdkU5AAXM8jvi69DaOjGPpqS+kcET1SigoGuPKJ5u2s7eWHsZAfFVDdiFWaP7OFC822Icn9Kv9qIscxJegZ/ATl2XUsoHxS4bEYNzycyC6oAms0b21vppbkR7Qt2xpF7iagAAAAKhBn9RFFS1/AABz+NF5ouK4Kr2w1qBIxe2lMOVpgMC920Z9sRYdKiFFNIHMu0Xh04sWE0BRaW+fOxGRfRIRUwiQH564ypcW/4Tq3eTt3ix3u9DfEKygq3kn2zj2xcrD7scIDoz/ISNgYZRuvQLQMk3TUvgu/Shl+CX1h7mynGyNw1RP/FVXPe0X9joy9caYTx4Gp6Th2wtRoPlkAWFfRSSuWWax1hfrQWoAAAB9AZ/zdEn/AACFj2FcJOPbeeATfa/p7kRdLddgvbHfYwlZcUFyTOFrPv+/D8Y5PLslyCGPT/gewchG1wn5FOw27v2NpmJQSD+9Dq4SC/s/Wm9WiYhrBjVVJcQVhZzUBOihVn7AjRWyubYGHQfBpvg/mSw1hKiPHWzRhvMZc0EAAABdAZ/1akn/AACEt/aEVyHjZfFDl6MI7/SjshquyXMv2TKtnhJ0HnVP4pH5wRjjUT/i9LHzH+piKVN45sfTEJKw/ukHgWvSJJOZFl0Mxn4z4+4TGcLASoheLP6a9Mo3AAABXUGb+kmoQWyZTA//5EAAATy7O1UDUtAe2RtvTvW9V33e+YBhiPp5DnnIy1mpHE60Z0guIB9qeTT0egW2tFgVLv+eXauQMyDUUpwKpD+AD8b6zVCUrnfpcLa7Fx+LsbKB4krPhRm8ese/M6yBYa9Tir1Qx8pL57sEQ/C6Osss8Dk5yWcuutSbQVl6gyYI7FeOuiDUeHhuwZ8cRtcynZGKAT+CCOkRACcxOQZfgXmva+RsFgTAX47yRFREduyZc+N5BmJjab5Tcty3/69Y84e3MsVE+67Mn/fQAY56hnPTgIqKqFwj74s/Ag/lpm2mXOD1eVasnc2UNF/0DL1m+3v4Dboo17djhz0suaWHL/xdTYr8QYeae0atwuW6l2uIzJp/W/QaQNIbQaw8+sym1DcQaFZ5VAay13/WtE2vdUfVxnz8EH9F7kVfWNae7eqd/KeWG9dD+AzoizG8XoX6ftEAAACLQZ4YRRUtfwAAdkfGxmK3zFtxDUql/OrNlNQ0c2x2IdrLlaDEE1a/2Mr4RnE37GFj4yEc4eS3e8LoggRVBpJ75hXAp1LkzjexQX5Vm8HeLVslDndP5H2bkM7YTuCoaQONOYyIzsxMruPp4Q0tkCPDtBmiEwWHoKZHCb2hMQF+E4oYfoUDAAPhuCm1DwAAACoBnjd0Sf8AAImoHlGhioKgCgvdITw5FKPWtXQ/jBynW3D97jIEzVnvUYsAAAB9AZ45akn/AACJcMHKHKivOIOnfMisV022FJO1weuWWGLCg/jL6ZExoagI3v7as58s9DS1Cv8dt8a8Lj3FycoHWYUT3k8wIBF41d7OjYLlVckDH1ypW1oDZjdmhsGv0QhLycWZxSnBMJvFMRZRTIFaYtWfU85pSFNIM3AfCN0AAADeQZo+SahBbJlMD//kQAABRbrYUNYqTGQKiUduC4tcuNGA8Ag8MKW4w+97ixmMNoG1n2H9LIHBYDkv0CDIDmqh9q+1ZP4T/LAyPmwR3jQMmbwfYeTMQGsvF1EA+QOa1s6FMZIOUVuEdGpB9Cpeu4fMWWUc+HaYVTNUYPoPnO61VXB0WYZwehNClSamd7wDbSkRXt05LtHi7HwVdOtY2jO/OoyWkra9piUSCmg0TlxCmUtXY3U/DXkcszg5/u11Pchpa8WEnAgBVFCjkxQYvDVTOHb6wy3bCmLqMGpBvOacAAAAiEGeXEUVLX8AAHmN7oJgDl9G6W0zf3E3Yf64tMRk3KJ4FOVG8owoxmh5xgn4Yq27dgCc7RMZVgGM9LLmI/RZDYQzf/nApjuIuRNgR7nz1bzuiIZEs8OPa2AKa8jqEWOiR1s2gd9AO7Kvu+RBSoGd8nQBf8PscnlFlzF9KrJWdrJik2IW8w+T4EEAAAA4AZ57dEn/AACJj1gYAsuOVmURIWs/tGtjjpzLHg3YnbLFLLs42vU8OUTVZaktfOuBAiOhxmap/DkAAACWAZ59akn/AACNjjKd7BaqoLRUMkmamH5eLnA336OsnZrzZ8ZBXMyOYLHq5/JMru9Vez0idNVsJhUWNk79RgbvfFaq+/2/E0lDMMNNteCxRv0S+B6NQbyhtlJNZvXZEuMsqVem+kIuoxlc/lBKrZirgcNetrVAhkoENx4KAYd9htCk/P8ppu/S5MhEc311reFuJ7HHtStgAAAA/EGaYkmoQWyZTA//5EAAAUglqonnYw23ftte4vROLE21O2+MJdMzGNoeWhQAaVMVM/WiUvuXYXkv5BlCk/Vvlp77NkkjvdEJ78Is2vdicBgUk9JVHO+UCr+2KiW/D89APrJXL60O75WEjWc2MKPN2KqZUyQa+zG/kRnK0mYs4hgGvPi2vGBo6xz6jPdEngYQ1rE5aQszN/8XLf1zwLp+fmirKzpPAj2zu/BU+soOqeBsiPHZAer3Vx5eUtQH7MShQjWSQtbBGd9ItmvO38NGZmuT6a+UrWaPXCBHOSX++cUJZxrHMMNTKAspzUG2/p5K4xz8LyhAGmd7/VpMAQAAAJtBnoBFFS1/AAB5B8vhl18O0stS+AVJMXrMYhn63NFfbyju7jQY8x+z+IV/d9iUPrSbG7/nBN9s4ifi/mFwv3jxx5uIlI+xHLI+AUYiz630BpScio4rLvaaUlWCaovCA1gLkL/NWuvimbTFlA6IOWdug5S8fGvdrA0osYq5BcMF0BjkW985EwZQDQQt6SMZDBGiEz5gZ/v59cwaSQAAAH4Bnr90Sf8AAIyuGUbcwOPfptYVBt67/Q3fiAGQeuSUuAlnBiw+pSZncZLvRMHB31XDZ0k/KdOwOiVbosKIF5vlgj8fYs5K5DFFJXfiH1q8YJqGHtGZy2NPXgkKlGapBSavu8xD0IBlvodkp0sMc6qpU202fM5e878UJp6M0kAAAABoAZ6hakn/AACMuAhTF6EScnYilEpBdb5FVNqoC8kabEfVFkPZ8c1U8jyQsGRoEuUzpxyTfMWnLBxhrXNNcA+YJPjnpMhDXcwHA8hEtNkVds5nMjMv3/wFRdo/9KkwCu6/9flRRmHonYEAAACpQZqmSahBbJlMD//kQAABUJKbsKMnAc2MWOerRc1zOKIq4QG4UEc6pIwuJyPqIakg+SskgqbrVVKKuwwcp+1r3Lzr9dT6uoTs/PXO+3OoNKvOjzSppdvI6pn9zJQH6HZhBUv4NE8pprAX4ZLIEJiDYFm/n8rRfsP5nxb1BP29451dQpCjpr74ObeaEhOhObNwB6iO2ipUFSNiIqn1/zYFkodIRqCzC1/mwAAAACtBnsRFFS1/AAB8OTX6UmfW6Gu9yA1IIEUHTrB+sYs8EYL+0Jv8Dp59rObVAAAAfQGe43RJ/wAAkawZ5xWFQmSjS3Cv1GZnTZwAncs6YZi6rDJTTRi/W2fu+6YGNPCfYx3Zs5o46vtBefXJ0M8gCPTjsRgxBQFqYGk6amoajdPuuX71mnYnwXs2BkElSnTLOFikozHUsPgwvmZST2i1FHmTsqe2PhdIl0MTI8/9AAAAaQGe5WpJ/wAAkXCzA68vzNEPDidiZ4v800Sq9gBhnQv8d0qTljqm907UmKyW3mn7YXPdXDyJCZBwe+uXhQlu2Ge7D0RIEBKhtwehl1yj4/6kqVxNnlH2zx+ACah39+LxSwrSUa3fO+5ugQAAATBBmupJqEFsmUwP/+RAAAFY7rEcgywYjwJrcdhO/UDCwF3tusxqpNVb3qChT5WLnR02PjGyqZI7ryyXuC2rfqji895XAbuPd+azIx9iu7WeyyEA2w2l+9sU1C45a6o9mOnqBkhsOOjZFG38l6hMOPV5Bl4Mogpf6p65CDJ6ptLih1IeGrVBOTr5SywrBfgpdxe4jxRIYSz4+9TBDviD/jtgHssyfSIRzuh5x5HI15ZjGq5oDPIhvARQkiEp9Wgt4YVaWkYNbz6rEWYcMljKfzcE8RfCAhotSGkVGoWdx0h1BKOq3BkkWbsf3+POL/L2IBWJY2nIdP7ChCfhORTId1c6toTOun7GzlBeyvXUZZ6I3IVjBBerJx4HnoVY4oyuYyjwGF7pcR+uAPxsA7g/yMdBAAAAtUGfCEUVLX8AAH8NFpcOGEcJNytQiGsoOXaxjbeFpghiirp7eyHebf/FcxzqA+ZdLAEcM+gq0YCO6zjpI7wIEzZzwo2pjK8hJKsbJjiDDEoVB5sG9bkUycu29w2DY+SujMj1XqVXf9WDKUr+x6p7xNXKoll9Yklz7c5RQDZPfm0gP71MGbDxN4lMOQi+vGI5irXtscoPmJ58dtcJ+8nI9GyODO5BWtnPRpsJOwQMtr0lgR8oWakAAACsAZ8ndEn/AACRh8JxpS2Q1sz157tONduEWphYbBACTGWbeiyrtsbnO0En03CGCWY6lGNZZrX5ZlvtBQx8kDBFdtOlgujrTnviAKBF+GzAjPw3ILuwOpP6DR0iTJd3vpYvPbMdY1zm+HDswjrFztLfwzWpJX/1lVFHMkeinwDvRJ+29p0/la791DdLeZBfynP0a4b19eEsp5yDLYnb5vb6O70WU6E9mg3FvsWymgAAAKYBnylqSf8AAJVwr9JMdtnQkzMUwHY+ag4+BZBEDGPlVlYZ7oBRxIVeIU9eI8m3m/Et0InxCbuF0wfEGxYTRBPfPdnpO2x1oNNd9waSdA7YkHq27yM/fGTant7qa5m8NRd6g441BahMBjkUXJ24eFjoz3uBSQ9ia4k+O7uh0wHGDDVQONsQbQ747Alv/XgHThOpqKkJ1L1ml7PDkLIxzGMjvPlLBo1DAAAA50GbK0moQWyZTA//5EAAAVmWEqc4PEV7NYFOwA7jPO42/lDIraa/0cW2keMucdFrtBXR3B/Gp1M97MJ4bqLkSmmLKfXOi/isKZlMnGl8vefsgdVmXv/ELAtvWJ1sgaQRbQXJbOp4AW+/H0Q/XFzd+O9LyLksW6JdFmjqBwBE4DMTIfb+AZcam/Heyy35gLkyfB9WgGuQHZZx2v2AVSXf5z0g7bqOYpVP8873gJyb5P2PWN/JKnnOTaTpKejlWAPOUuwVSVD3h+ysh7bM0U4q3G7dVVbJzwoiVFS7DfCwuQ/qLcvsimu3iAAAANVBm01J4QpSZTBRUv/kQAABV7a7fO2fhwTFuHNd7xh3XFfC4axW55Ev0caH/LokbkI2X4S0Nf5lRTcLB6Ehnqm3/yPoTXee35FHYLNAos1SRy3Xh7woaoEhrlRTdoVifW8Y/6ToPBDFcdpNdB9U+ugZg+eyIcdMPtFkY2r7t5KHqoYqVsz3rlB95ZGfkretpSqqRwtRfklvonl21zD/hsvSJ9PiVClN+9UB8WVByXPhVZrZbCv9BLfyLw3o23f3Q2lo1kqQJepR9vqaiuWtf0RrJe/GaIAAAABcAZ9sakn/AACWMY915kOZAlD5crGWgnsmaNLtrb19VKBc1Uz5dIO4gAlyVztO6WQkJO8qXd7T6yrS/Z2OUArN4hAizFQnFhf0UracEZWMHPg7Y4w3SZmiPY3840EAAADoQZtuSeEOiZTA/+RAAAFgrN070joqlwlMAiq5mM6/V4g43XznBxwzeda6W3dtUECPppdYDXfc+p9Tee7fOtAHo1xkwb/MtdtrM2Pvlp8/9lANHjG12GbxqKoWXRUf9HlOIfwlIRWOa/b4Xt8pOrB2oM6A1wkFptj5m1cALSpmLxhZJOcNWjZI/jYIT6N/25v2TIopwaKV50yQyy1sd/VJQgbaK//CUgmZgmiBsGX8S6fBnQ9ftX/IUlVXWeEWMswP/6FBF7MCA7ewCrEzvzEdijoUGg6D5JTjwEZMkHIi7gBb8p+d6dCvkQAAANxBm5JJ4Q8mUwP/5EAAAWMltnOsDxKW80lUni8sryveOKzb0rf75FRHhWoD7Sf8VebrMWhNowb37OEpcONgtfgPi1rPdL8G1YYkGw6dhTXNMKCMI/2sKE528/indnqMeksFNOXP0Kph1KBtNxKH396L3XbXuKY/ivt2tdqT1DSsZ5VSCqpeuQLxT3V94+jNLuqwVAF3nxo/bAyfa2vLo3gdUB58QRr8IziCJJnWVMGsVpfzvMfWVz+TZaadZime5mAUJZJxWU4w2OD6idmLz45WuFKFKtFXfQHW+Co/AAAAj0GfsEURPX8AAIG+n0r93WBg79kJr7aMXuxu+tvOoAczuKqIdJWHOrktEuh21DCzpYQ6bVkPtRF6CdaDod/SqJy5pHG/2M7a6TMshgv/8fr7FBjBc30oxzeC30z+pg+V7KTel1vloZ7zbBVSe0DTE4LS61aU2EE32v8T7pYm0m7mNyoWnBQRIsoX80mwWFmAAAAAhAGfz3RJ/wAAmK4ZRyKsRMWLR88pR+zkk8l2HluyObwBSufUdIPGqxKgCo235zhCSDC/2gBRlTaWbx24Gkkdcd1jApvapiuCFM6+9ReI45jNTGulqETUGVOma61Ah+GbFWhGTlRsPvrXeuPoP4/8zw9RpEfujWPRipv/DvQfyxfgEZxpeAAAAC8Bn9FqSf8AAJlyRs5jPWhRNhPYgtUrqunzb84FCu59UOEN0sIYnvuH+qyJxFNGgQAAADlBm9NJqEFomUwP/+RAAAFpsohiOQevBOS/ctw+djiofKwvKyNsvVu/Gzlu9GMKi+OdGj0opDhHN7YAAABQQZv2SeEKUmUwP+RAAAFsrgR6frL/F+HzaRgtMZG2WvitKo2tbR1xuHcqQO7y+igiptgca/ZTiFnojvyW102Rl0Gbmaklg+DfxjDUtP8bpecAAACfQZ4URTRNfwAAhkY1lvYRglt6dgPC/FoUl8nk2QOzwDH5dZWtSSyhh3R/RQc/VJT+0vp2LxxB59Yuk+citLR+yPPLLbkcnO3LXl/WXce96WZwdZzBehCuO7Ndm0/JYpVwPN+J3UKbQS6Gx6WBn6myCWHlzSAZfN//G9byMZGF1XAt4RuYXuffaSImTTTVxpc6yxU2WjokALgEA14RtyafAAAAOQGeNWpJ/wAAnxzZKvexf05kVXYmw+ynjtc5rmbTsgL3RH3xz9TK0Qx82iwfEP771YJcSVXDQCsjHwAAASJBmjpJqEFomUwP/+RAAAF0TBwsUvA/+xwRAU/r2TGMkOk/eMgTTOh4EVlFHi2nOAUOM4z0h7PAsy9cFDlDh5w7NfPymFm0TMtn+Uf8z14AXVX76oLRJxhOxo5j3rHxChYJfvhH2/EmePwuPQMnQbomwja6sD1Fe/WvkpU0re06q5/lbc94BZEtyR2kgK8DrD83kGcCAdWA+ko9Ly9WAZ88m6zRswpv/yraxIa8PDU5HAxwMRw3MqAvajFeI36ghri1iTgN4N5WWf3FyiGROb3XPwUwV3jB06ef+mBAlK3YG6+l6XfQ37fhzHaQeIQZY/n6HvR1lNgLB0JpzvqvF/W+lPShNrbkpFh67I0SIDQ12n4q7E2zlo1ElBtRdJ8StvcbcQAAAHxBnlhFES1/AACK5/3Y6FYuwYh4clyAPeoKJTw7MBlYgxif1ElwiUfDoTuDX/SfDNE9nrbNfgIfwoGiOfSZrQU3o0O7eWX33P6HzxI1mVhpyDJMeSyfL2L0mncX0sOsvX9bJyBQrTvCCcjpPFgBazFw64ltk1f8oqG70gcdAAAAmwGed3RJ/wAAoTRTodW101k5/XCJAPgOhneyePhmO4Rg3/Wuf7NTWyVufufJsPCdpyHVL5Bo2Q0oCJFXvC3M6KyXm35WefDtxs0WEkscmT2KdiCQ6JuR99mql1G2LNpT20etc/+99/Lw1ZcDVjkWFm/db+quB0t05UfDxbs1P8drqrs+QOAAWX16/idB2BNS0FP/dFvvWbzf/3xwAAAAXwGeeWpJ/wAApAushB77bW1MjmADSTFGFv1onRCt7T8WlYfkcAQ37I5fuXSJROoLGaX9RF+RQszsR2d71B+Q1boMwZBWIf/NbRx0k/bt59wV3gKbHJAmsQ706uE6JUVTAAAA7EGafEmoQWyZTBRP/+RAAAF8bd5n8fKvFLjQW+LWMuW3PAALgdPrtsboM1Q1iSFopvzLmXQX1YG2ciGcO+98O8SC0q/Tk/Qsw4I6sZnoYHgdm0QJvvAahDbQ+Nm9BGPo8ZZlGKixhZLe1pudYwnoh6UexHC6EIF96FCb1ZODxzb+uujDqUSWXMGpnspzyLwSt9HMB4b/2HUUt3YA5dTnWHgq25eo5qCzIgdMp3EKzKPyKBbv5JBTP1BjT3YWeJZFwVexpO7C5d5wxP3kepfMfFViA2GtbRMF/iTksCzjaEzStSXiPd5F13CiO/70AAAATAGem2pJ/wAApcmxq/Fw3aBF6559tH8x/3OjAlZZzaOIBUaNk4gQHzS8X1+PkqsJLK8SiSLTt+SVAotX7K01zT6al0EUzWRp83KUCgkAAABOQZqeSeEKUmUwUv/kQAABfG3f/yPBb2nmWMBeN10hqwgN9bZ2ONvRADyUzvT0QSp/1T+8B7aHGRobyvhPY5bZoLgyBsfJoJellASgNyEbAAAAHwGevWpJ/wAAppObHeCNjbj4SwltvWBvgdw208GXTDwAAABpQZq/SeEOiZTA/+RAAAF+vXitLEvsofH0N4OinzzVJJh8dKLBiGLVlol0Er70VoVWXhAnbj8ep432+GRMWrGP1zdyt9aX+hsIPWS3lMI1pSlpkY42HEPEURj2v+KhEN+dsjLdvLF4G5yAAAAAtUGawEvhCEPIIEQHkGoDmDQDiD0B5BgA/+RAAAF9oSnEisnMDb1eQR71KBCbGuS9rQ4hpii5v1LGaMUFt0J0gp/3vFOE+jaB6fxu8c8WpHedfml+Ap+8OhRL9NQbROkUCdluZa8D5ENmhnKHVsifJUgnVQFTzdaPs6XyjLsI93ApuUHg5AUSM96rQsBxCvkQQOxD02z8y06ojoXwAAADAAADAAADAAADAA0693aplgzpD2NnBYEAAAByQZriSeEPJlMFET//5EAAAX/jn/3f/OkKbL7aXmciCQeKwSItn752w3y115Je9OoXJLA+Lgd1f27/WmfzPNyvnYgIlZS9s7NslrvUVSlwiyqD7uDeOBUNpOtIs5egl6NGsVgGnNe/rutdxcauAg0j1/ngAAAATAGfAWpJ/wAAppOe99Sf4+5fscqCYVwB7/LQKgkM6KJdRU1/JjpgpR9+lKDDx+NA54usSqcuA5j9yCbulMNUVCIBBZz00EFCC+tUeYEAAAwPbW9vdgAAAGxtdmhkAAAAAAAAAAAAAAAAAAAD6AAADLIAAQAAAQAAAAAAAAAAAAAAAAEAAAAAAAAAAAAAAAAAAAABAAAAAAAAAAAAAAAAAABAAAAAAAAAAAAAAAAAAAAAAAAAAAAAAAAAAAAAAAAAAgAACzl0cmFrAAAAXHRraGQAAAADAAAAAAAAAAAAAAABAAAAAAAADLIAAAAAAAAAAAAAAAAAAAAAAAEAAAAAAAAAAAAAAAAAAAABAAAAAAAAAAAAAAAAAABAAAAAAlgAAAGQAAAAAAAkZWR0cwAAABxlbHN0AAAAAAAAAAEAAAyyAAACAAABAAAAAAqxbWRpYQAAACBtZGhkAAAAAAAAAAAAAAAAAAA8AAAAwwBVxAAAAAAALWhkbHIAAAAAAAAAAHZpZGUAAAAAAAAAAAAAAABWaWRlb0hhbmRsZXIAAAAKXG1pbmYAAAAUdm1oZAAAAAEAAAAAAAAAAAAAACRkaW5mAAAAHGRyZWYAAAAAAAAAAQAAAAx1cmwgAAAAAQAAChxzdGJsAAAAmHN0c2QAAAAAAAAAAQAAAIhhdmMxAAAAAAAAAAEAAAAAAAAAAAAAAAAAAAAAAlgBkABIAAAASAAAAAAAAAABAAAAAAAAAAAAAAAAAAAAAAAAAAAAAAAAAAAAAAAAAAAAGP//AAAAMmF2Y0MBZAAf/+EAGWdkAB+s2UCYM+XhAAADAAEAAAMAeA8YMZYBAAZo6+GyyLAAAAAYc3R0cwAAAAAAAAABAAAAwwAAAQAAAAAUc3RzcwAAAAAAAAABAAAAAQAABgBjdHRzAAAAAAAAAL4AAAABAAACAAAAAAEAAAUAAAAAAQAAAgAAAAABAAAAAAAAAAEAAAEAAAAAAQAABQAAAAABAAACAAAAAAEAAAAAAAAAAQAAAQAAAAABAAAFAAAAAAEAAAIAAAAAAQAAAAAAAAABAAABAAAAAAEAAAUAAAAAAQAAAgAAAAABAAAAAAAAAAEAAAEAAAAAAQAABQAAAAABAAACAAAAAAEAAAAAAAAAAQAAAQAAAAABAAAFAAAAAAEAAAIAAAAAAQAAAAAAAAABAAABAAAAAAEAAAUAAAAAAQAAAgAAAAABAAAAAAAAAAEAAAEAAAAAAQAABQAAAAABAAACAAAAAAEAAAAAAAAAAQAAAQAAAAABAAAFAAAAAAEAAAIAAAAAAQAAAAAAAAABAAABAAAAAAEAAAUAAAAAAQAAAgAAAAABAAAAAAAAAAEAAAEAAAAAAQAABQAAAAABAAACAAAAAAEAAAAAAAAAAQAAAQAAAAABAAAFAAAAAAEAAAIAAAAAAQAAAAAAAAABAAABAAAAAAEAAAUAAAAAAQAAAgAAAAABAAAAAAAAAAEAAAEAAAAAAQAABQAAAAABAAACAAAAAAEAAAAAAAAAAQAAAQAAAAABAAAFAAAAAAEAAAIAAAAAAQAAAAAAAAABAAABAAAAAAEAAAUAAAAAAQAAAgAAAAABAAAAAAAAAAEAAAEAAAAAAQAABQAAAAABAAACAAAAAAEAAAAAAAAAAQAAAQAAAAABAAAFAAAAAAEAAAIAAAAAAQAAAAAAAAABAAABAAAAAAEAAAUAAAAAAQAAAgAAAAABAAAAAAAAAAEAAAEAAAAAAQAAAwAAAAABAAABAAAAAAEAAAMAAAAAAQAAAQAAAAABAAAFAAAAAAEAAAIAAAAAAQAAAAAAAAABAAABAAAAAAEAAAUAAAAAAQAAAgAAAAABAAAAAAAAAAEAAAEAAAAAAQAABQAAAAABAAACAAAAAAEAAAAAAAAAAQAAAQAAAAABAAACAAAAAAEAAAUAAAAAAQAAAgAAAAABAAAAAAAAAAEAAAEAAAAAAQAABAAAAAACAAABAAAAAAEAAAUAAAAAAQAAAgAAAAABAAAAAAAAAAEAAAEAAAAAAQAABQAAAAABAAACAAAAAAEAAAAAAAAAAQAAAQAAAAABAAAFAAAAAAEAAAIAAAAAAQAAAAAAAAABAAABAAAAAAEAAAUAAAAAAQAAAgAAAAABAAAAAAAAAAEAAAEAAAAAAQAABQAAAAABAAACAAAAAAEAAAAAAAAAAQAAAQAAAAABAAACAAAAAAEAAAQAAAAAAgAAAQAAAAABAAAFAAAAAAEAAAIAAAAAAQAAAAAAAAABAAABAAAAAAEAAAQAAAAAAgAAAQAAAAABAAAFAAAAAAEAAAIAAAAAAQAAAAAAAAABAAABAAAAAAEAAAMAAAAAAQAAAQAAAAABAAACAAAAAAEAAAUAAAAAAQAAAgAAAAABAAAAAAAAAAEAAAEAAAAAAQAABQAAAAABAAACAAAAAAEAAAAAAAAAAQAAAQAAAAABAAAFAAAAAAEAAAIAAAAAAQAAAAAAAAABAAABAAAAAAEAAAUAAAAAAQAAAgAAAAABAAAAAAAAAAEAAAEAAAAAAQAABQAAAAABAAACAAAAAAEAAAAAAAAAAQAAAQAAAAABAAAFAAAAAAEAAAIAAAAAAQAAAAAAAAABAAABAAAAAAEAAAUAAAAAAQAAAgAAAAABAAAAAAAAAAEAAAEAAAAAAQAABQAAAAABAAACAAAAAAEAAAAAAAAAAQAAAQAAAAABAAACAAAAAAEAAAMAAAAAAQAAAQAAAAABAAACAAAAAAEAAAUAAAAAAQAAAgAAAAABAAAAAAAAAAEAAAEAAAAAAQAAAgAAAAABAAAEAAAAAAIAAAEAAAAAAQAABQAAAAABAAACAAAAAAEAAAAAAAAAAQAAAQAAAAABAAADAAAAAAEAAAEAAAAAAQAAAwAAAAABAAABAAAAAAIAAAIAAAAAAQAAAwAAAAABAAABAAAAABxzdHNjAAAAAAAAAAEAAAABAAAAwwAAAAEAAAMgc3RzegAAAAAAAAAAAAAAwwAABBwAAAC+AAAAawAAABsAAAAdAAAALAAAACAAAAARAAAAHgAAABoAAABGAAAAHAAAAB0AAAAoAAAAHQAAABwAAAARAAAAoAAAAB8AAAARAAAAHQAAAU8AAACSAAAAZQAAAIAAAABPAAAAfgAAAB8AAAAkAAABDgAAAJAAAABoAAAAIAAAAKoAAABxAAAAewAAAJUAAACXAAAAawAAAFEAAAAkAAAAoQAAAKIAAAA3AAAAggAAALUAAACAAAAAYQAAAFYAAAFpAAAApQAAAGQAAABvAAAAdAAAAHMAAAAeAAAAYQAAAMIAAABpAAAAbgAAAGUAAAGEAAAAswAAAHAAAAB0AAABjwAAAKAAAABNAAAAcgAAAO4AAACNAAAAmgAAAF8AAADSAAAAUwAAAHsAAACTAAAA4AAAAEcAAAETAAAAkgAAASUAAAChAAAAMQAAAIUAAADTAAAAgwAAADgAAAApAAAAqwAAAHMAAAAoAAAAMwAAAMIAAAB/AAAAOQAAACsAAACcAAAAsgAAAKgAAABHAAABEgAAANEAAABnAAAAdAAAAIIAAACCAAAAKAAAAHMAAAB6AAAAlAAAACoAAABxAAABKQAAAI8AAABqAAAAfAAAAH4AAAB2AAAAMgAAADoAAACDAAAAqgAAADAAAACWAAAAlAAAADQAAAArAAAALQAAAOoAAACJAAAANQAAAIcAAABAAAAAQgAAAIgAAACxAAAAJwAAAJIAAACXAAAAQAAAADkAAAAqAAABCAAAAHwAAABzAAAAngAAAUIAAACsAAAAgQAAAGEAAAFhAAAAjwAAAC4AAACBAAAA4gAAAIwAAAA8AAAAmgAAAQAAAACfAAAAggAAAGwAAACtAAAALwAAAIEAAABtAAABNAAAALkAAACwAAAAqgAAAOsAAADZAAAAYAAAAOwAAADgAAAAkwAAAIgAAAAzAAAAPQAAAFQAAACjAAAAPQAAASYAAACAAAAAnwAAAGMAAADwAAAAUAAAAFIAAAAjAAAAbQAAALkAAAB2AAAAUAAAABRzdGNvAAAAAAAAAAEAAAAwAAAAYnVkdGEAAABabWV0YQAAAAAAAAAhaGRscgAAAAAAAAAAbWRpcmFwcGwAAAAAAAAAAAAAAAAtaWxzdAAAACWpdG9vAAAAHWRhdGEAAAABAAAAAExhdmY1OC4yOS4xMDA=\" type=\"video/mp4\"/>\n",
              "      This browser does not support the video tag.\n",
              "      </video></td></tr></table>"
            ],
            "text/plain": [
              "<IPython.core.display.HTML object>"
            ]
          },
          "metadata": {},
          "output_type": "display_data"
        }
      ],
      "source": [
        "import mediapy\n",
        "mediapy.show_video(scenes)"
      ]
    },
    {
      "attachments": {},
      "cell_type": "markdown",
      "metadata": {
        "id": "nvtF10IVFZQ2"
      },
      "source": [
        "## Controlling NeuroMechFly with RL\n",
        "\n",
        "As discussed in the lecture, we will now try to control the stepping of each legs with reinforcement learning.\n",
        "\n",
        "First we need to write our own Gym environment that functions as a \"wrapper\" around the underlying the `NeuroMechFlyMuJoCo` object. You can achieve this by implementing a class inheriting from `gym.Env` with the actual `NeuroMechFlyMuJoCo` simulation saved as an attribute.\n",
        "\n",
        "There are three things to note here:\n",
        "1. For the gym environment to work with models in Stable Baselines 3, the observation and action spaces have to be arrays instead of dictionaries of arrays. We do this by concatenating the flattened arrays into a single array.\n",
        "2. Under `__init__`, you have to define the expected dimensions and bounds of the observation/action space, so the model knows what inputs/outputs are valid.\n",
        "3. The `step` method has to return five values: the observation, the reward, whether the simulation is terminated, whether the simulation is truncated, and some additional info. This is different from `NeuroMechFlyMuJoCo`."
      ]
    },
    {
      "cell_type": "code",
      "execution_count": 20,
      "metadata": {
        "id": "NweX2VHfGAiQ"
      },
      "outputs": [],
      "source": [
        "import gymnasium as gym\n",
        "from gymnasium import spaces\n",
        "from flygym.envs.nmf_mujoco import NeuroMechFlyMuJoCo\n",
        "import numpy as np\n",
        "\n",
        "class MyNMF(gym.Env):\n",
        "    def __init__(self, **kwargs):\n",
        "        self.nmf = NeuroMechFlyMuJoCo(**kwargs)\n",
        "        num_dofs = len(self.nmf.actuated_joints)\n",
        "        bound = 0.5\n",
        "        self.action_space = spaces.Box(low=-bound, high=bound,\n",
        "                                       shape=(num_dofs,))\n",
        "        self.observation_space = spaces.Box(low=-np.inf, high=np.inf,\n",
        "                                            shape=(num_dofs,))\n",
        "        self.joint_pos= np.zeros(num_dofs)\n",
        "        self.fly_pos = np.zeros(3)\n",
        "        self.fly_vel = np.zeros(3)\n",
        "\n",
        "        self.reward_terms={\"rew_total\": 0}\n",
        "\n",
        "    \n",
        "    def _parse_obs(self, raw_obs):\n",
        "        features = [\n",
        "            #joint angle\n",
        "            raw_obs['joints'][0, :].flatten(),\n",
        "            #joint velocity\n",
        "            #raw_obs['joints'][1, :].flatten(),\n",
        "            #joint torque\n",
        "            #raw_obs['joints'][1, :].flatten(),\n",
        "            # raw_obs['fly'].flatten(),\n",
        "            # what else would you like to include?\n",
        "        ]\n",
        "        #print(raw_obs['joints'].shape)\n",
        "        #print(np.array(features).shape)\n",
        "        return np.concatenate(features, dtype=np.float32)\n",
        "    \n",
        "    def reset(self):\n",
        "        self.reward_terms={\"rew_total\": 0}\n",
        "        raw_obs, info = self.nmf.reset()\n",
        "        return self._parse_obs(raw_obs), info\n",
        "    \n",
        "    def reward(self):\n",
        "        \"\"\" Reward function aiming at maximizing forward velocity.\"\"\"\n",
        "        # reward for forward velocity\n",
        "        vel_tracking_reward = self.fly_vel[0]\n",
        "        reward=vel_tracking_reward\n",
        "        self.reward_terms=self.reward_terms={\"rew_total\": reward}\n",
        "        #print(reward)\n",
        "\n",
        "        #vel_tracking_reward = 0.2 * np.exp( -1/ 0.25 *  (self.robot.GetBaseLinearVelocity()[0] - des_vel_x)**2 )\n",
        "        \n",
        "        # # minimize yaw (go straight) \n",
        "        # yaw_reward = -0.3 * np.abs(self.robot.GetBaseOrientationRollPitchYaw()[2]) \n",
        "\n",
        "        # #minmize roll (not fall on the side)\n",
        "        # roll_reward = -0.3 * np.abs(self.robot.GetBaseOrientationRollPitchYaw()[0]) \n",
        "\n",
        "        # # penalty body y - don't drift laterally\n",
        "        # drift_reward = -0.01 * abs(self.robot.GetBasePosition()[1]) #0.01\n",
        "\n",
        "        # #linear velocity penalty body z (mentioned in paper)\n",
        "        # vel_body_z_penalty = -0.05*(self.robot.GetBaseLinearVelocity()[2])**2\n",
        "        # # minimize energy \n",
        "        # energy_reward = 0 \n",
        "        # for tau,vel in zip(self._dt_motor_torques,self._dt_motor_velocities):\n",
        "        # energy_reward += np.abs(np.dot(tau,vel)) * self._time_step\n",
        "\n",
        "        # reward = vel_tracking_reward \\\n",
        "        #         + yaw_reward \\\n",
        "        #         + roll_reward\\\n",
        "        #         + drift_reward \\\n",
        "        #         + vel_body_z_penalty \\\n",
        "        #         - 0.01 * energy_reward \\\n",
        "        #         - 0.1 * np.linalg.norm(self.robot.GetBaseOrientation() - np.array([0,0,0,1]))\n",
        "\n",
        "        return max(reward,0) # keep rewards positive\n",
        "        \n",
        "    def step(self, action):\n",
        "        raw_obs, info = self.nmf.step({'joints': action})\n",
        "        obs = self._parse_obs(raw_obs)\n",
        "        self.joint_pos = raw_obs['joints'][0, :]\n",
        "        self.fly_pos = raw_obs['fly'][0, :]\n",
        "        self.fly_vel = raw_obs['fly'][1, :]\n",
        "        reward = self.reward()  # what is your reward function?\n",
        "        terminated = False\n",
        "        truncated = False\n",
        "        return obs, reward, terminated, truncated, info\n",
        "\n",
        "    def render(self):\n",
        "        return self.nmf.render()\n",
        "    \n",
        "    def close(self):\n",
        "        return self.nmf.close()"
      ]
    },
    {
      "cell_type": "code",
      "execution_count": 36,
      "metadata": {},
      "outputs": [],
      "source": [
        "import os\n",
        "#from stable_baselines.bench.monitor import load_results\n",
        "from stable_baselines3.common.monitor import load_results\n",
        "from stable_baselines3.common.callbacks import BaseCallback\n",
        "from stable_baselines3.common.logger import TensorBoardOutputFormat\n",
        "\n",
        "class CheckpointCallback(BaseCallback):\n",
        "    \"\"\"\n",
        "    Added Custom Logging to the Callback \n",
        "    Callback for saving a model and vec_env parameters every `save_freq` steps\n",
        "\n",
        "    :param save_freq: (int)\n",
        "    :param save_path: (str) Path to the folder where the model will be saved.\n",
        "    :param name_prefix: (str) Common prefix to the saved models\n",
        "    \"\"\"\n",
        "    def __init__(self, save_freq: int, save_path: str, name_prefix='rl_model', env=None, rew_freq=100, verbose=0):\n",
        "        super(CheckpointCallback, self).__init__(verbose)\n",
        "        self.save_freq = save_freq\n",
        "        self.save_path = save_path\n",
        "        self.name_prefix = name_prefix\n",
        "        self.env=env\n",
        "        self.rew_freq=rew_freq\n",
        "\n",
        "    def _init_callback(self):# -> None:\n",
        "        # Create folder if needed\n",
        "        if self.save_path is not None:\n",
        "            os.makedirs(self.save_path, exist_ok=True)\n",
        "        \n",
        "       \n",
        "        # Save reference to tensorboard formatter object\n",
        "        # note: the failure case (not formatter found) is not handled here, should be done with try/except.\n",
        "        # Add a TensorBoardOutputFormat object to the logger's output formats\n",
        "        #if isinstance(self.logger, TensorBoardLogger):\n",
        "        tb_format = TensorBoardOutputFormat(self.logger.dir)\n",
        "        self.logger.output_formats.append(tb_format)\n",
        "        output_formats = self.logger.output_formats\n",
        "        print(output_formats)\n",
        "        self.tb_formatter = next(formatter for formatter in output_formats if isinstance(formatter, TensorBoardOutputFormat))\n",
        "\n",
        "\n",
        "    def _on_step(self):# -> bool:\n",
        "        if self.n_calls % self.save_freq == 0:\n",
        "            path = os.path.join(self.save_path, '{}_{}_steps'.format(self.name_prefix, self.num_timesteps))\n",
        "            self.model.save(path)\n",
        "\n",
        "            stats_path = os.path.join(self.save_path, \"vec_normalize.pkl\")\n",
        "            #self.training_env.save(stats_path)\n",
        "\n",
        "            if self.verbose > 1:\n",
        "                print(\"Saving model checkpoint to {}\".format(path))\n",
        "\n",
        "        if self.n_calls % 500 == 0: # self.save_freq < 10000 and \n",
        "            # also print out path periodically for off-policy aglorithms: SAC, TD3, etc.\n",
        "            print('=================================== Save path is {}'.format(self.save_path))\n",
        "\n",
        "        if self.n_calls % self.rew_freq == 0 and self.env is not None:\n",
        "            #print(self.env.envs[0].env)\n",
        "            self.tb_formatter.writer.add_scalars(\"reward_func/\", self.env.reward_terms, self.num_timesteps)\n",
        "            #self.tb_formatter.writer.add_scalars(\"metrics/\", self.env.envs[0].env.metrics, self.num_timesteps)\n",
        "            self.tb_formatter.writer.flush()\n",
        "\n",
        "        return True\n"
      ]
    },
    {
      "attachments": {},
      "cell_type": "markdown",
      "metadata": {
        "id": "Og0HRn51GCpz"
      },
      "source": [
        "We can now train a agent on this environment:"
      ]
    },
    {
      "cell_type": "code",
      "execution_count": 40,
      "metadata": {
        "id": "8qhx6G9BJ1PR"
      },
      "outputs": [
        {
          "name": "stdout",
          "output_type": "stream",
          "text": [
            "working dir: /home/theo/Documents/COBAR/flygym/notebooks\n",
            "/home/theo/Documents/COBAR/flygym/RL_logs\n",
            "Using cpu device\n",
            "Wrapping the env with a `Monitor` wrapper\n",
            "Wrapping the env in a DummyVecEnv.\n",
            "Logging to ../RL_logs/logdir/first_test_1\n",
            "[<stable_baselines3.common.logger.HumanOutputFormat object at 0x7fc614121a90>, <stable_baselines3.common.logger.TensorBoardOutputFormat object at 0x7fc614121ac0>, <stable_baselines3.common.logger.TensorBoardOutputFormat object at 0x7fc6141219d0>]\n",
            "=================================== Save path is /home/theo/Documents/COBAR/flygym/RL_logs\n",
            "=================================== Save path is /home/theo/Documents/COBAR/flygym/RL_logs\n",
            "=================================== Save path is /home/theo/Documents/COBAR/flygym/RL_logs\n",
            "=================================== Save path is /home/theo/Documents/COBAR/flygym/RL_logs\n",
            "-----------------------------\n",
            "| time/              |      |\n",
            "|    fps             | 607  |\n",
            "|    iterations      | 1    |\n",
            "|    time_elapsed    | 3    |\n",
            "|    total_timesteps | 2048 |\n",
            "-----------------------------\n",
            "=================================== Save path is /home/theo/Documents/COBAR/flygym/RL_logs\n",
            "=================================== Save path is /home/theo/Documents/COBAR/flygym/RL_logs\n",
            "=================================== Save path is /home/theo/Documents/COBAR/flygym/RL_logs\n",
            "=================================== Save path is /home/theo/Documents/COBAR/flygym/RL_logs\n",
            "------------------------------------------\n",
            "| time/                   |              |\n",
            "|    fps                  | 530          |\n",
            "|    iterations           | 2            |\n",
            "|    time_elapsed         | 7            |\n",
            "|    total_timesteps      | 4096         |\n",
            "| train/                  |              |\n",
            "|    approx_kl            | 0.0006257924 |\n",
            "|    clip_fraction        | 0            |\n",
            "|    clip_range           | 0.2          |\n",
            "|    entropy_loss         | -25.5        |\n",
            "|    explained_variance   | -3.58e-07    |\n",
            "|    learning_rate        | 0.0003       |\n",
            "|    loss                 | 1.44e+08     |\n",
            "|    n_updates            | 10           |\n",
            "|    policy_gradient_loss | -0.00297     |\n",
            "|    std                  | 1            |\n",
            "|    value_loss           | 2.89e+08     |\n",
            "------------------------------------------\n",
            "=================================== Save path is /home/theo/Documents/COBAR/flygym/RL_logs\n",
            "=================================== Save path is /home/theo/Documents/COBAR/flygym/RL_logs\n",
            "=================================== Save path is /home/theo/Documents/COBAR/flygym/RL_logs\n",
            "=================================== Save path is /home/theo/Documents/COBAR/flygym/RL_logs\n",
            "------------------------------------------\n",
            "| time/                   |              |\n",
            "|    fps                  | 512          |\n",
            "|    iterations           | 3            |\n",
            "|    time_elapsed         | 11           |\n",
            "|    total_timesteps      | 6144         |\n",
            "| train/                  |              |\n",
            "|    approx_kl            | 8.446485e-06 |\n",
            "|    clip_fraction        | 0            |\n",
            "|    clip_range           | 0.2          |\n",
            "|    entropy_loss         | -25.6        |\n",
            "|    explained_variance   | 1.17e-05     |\n",
            "|    learning_rate        | 0.0003       |\n",
            "|    loss                 | 4.04e+08     |\n",
            "|    n_updates            | 20           |\n",
            "|    policy_gradient_loss | -0.000227    |\n",
            "|    std                  | 1            |\n",
            "|    value_loss           | 1.11e+09     |\n",
            "------------------------------------------\n",
            "=================================== Save path is /home/theo/Documents/COBAR/flygym/RL_logs\n",
            "=================================== Save path is /home/theo/Documents/COBAR/flygym/RL_logs\n",
            "=================================== Save path is /home/theo/Documents/COBAR/flygym/RL_logs\n",
            "=================================== Save path is /home/theo/Documents/COBAR/flygym/RL_logs\n",
            "------------------------------------------\n",
            "| time/                   |              |\n",
            "|    fps                  | 508          |\n",
            "|    iterations           | 4            |\n",
            "|    time_elapsed         | 16           |\n",
            "|    total_timesteps      | 8192         |\n",
            "| train/                  |              |\n",
            "|    approx_kl            | 1.511944e-07 |\n",
            "|    clip_fraction        | 0            |\n",
            "|    clip_range           | 0.2          |\n",
            "|    entropy_loss         | -25.6        |\n",
            "|    explained_variance   | 1.91e-06     |\n",
            "|    learning_rate        | 0.0003       |\n",
            "|    loss                 | 1.41e+10     |\n",
            "|    n_updates            | 30           |\n",
            "|    policy_gradient_loss | -2.57e-05    |\n",
            "|    std                  | 1            |\n",
            "|    value_loss           | 2.42e+10     |\n",
            "------------------------------------------\n",
            "=================================== Save path is /home/theo/Documents/COBAR/flygym/RL_logs\n",
            "=================================== Save path is /home/theo/Documents/COBAR/flygym/RL_logs\n",
            "=================================== Save path is /home/theo/Documents/COBAR/flygym/RL_logs\n",
            "Saving model checkpoint to /home/theo/Documents/COBAR/flygym/RL_logs/rl_model_10000_steps\n",
            "=================================== Save path is /home/theo/Documents/COBAR/flygym/RL_logs\n",
            "------------------------------------------\n",
            "| time/                   |              |\n",
            "|    fps                  | 506          |\n",
            "|    iterations           | 5            |\n",
            "|    time_elapsed         | 20           |\n",
            "|    total_timesteps      | 10240        |\n",
            "| train/                  |              |\n",
            "|    approx_kl            | 6.086775e-07 |\n",
            "|    clip_fraction        | 0            |\n",
            "|    clip_range           | 0.2          |\n",
            "|    entropy_loss         | -25.6        |\n",
            "|    explained_variance   | 8.94e-07     |\n",
            "|    learning_rate        | 0.0003       |\n",
            "|    loss                 | 1.12e+10     |\n",
            "|    n_updates            | 40           |\n",
            "|    policy_gradient_loss | -6.7e-05     |\n",
            "|    std                  | 1            |\n",
            "|    value_loss           | 1.77e+10     |\n",
            "------------------------------------------\n",
            "=================================== Save path is /home/theo/Documents/COBAR/flygym/RL_logs\n",
            "=================================== Save path is /home/theo/Documents/COBAR/flygym/RL_logs\n",
            "=================================== Save path is /home/theo/Documents/COBAR/flygym/RL_logs\n",
            "=================================== Save path is /home/theo/Documents/COBAR/flygym/RL_logs\n",
            "-----------------------------------------\n",
            "| time/                   |             |\n",
            "|    fps                  | 504         |\n",
            "|    iterations           | 6           |\n",
            "|    time_elapsed         | 24          |\n",
            "|    total_timesteps      | 12288       |\n",
            "| train/                  |             |\n",
            "|    approx_kl            | 0.015759014 |\n",
            "|    clip_fraction        | 0.148       |\n",
            "|    clip_range           | 0.2         |\n",
            "|    entropy_loss         | -25.4       |\n",
            "|    explained_variance   | 0.00589     |\n",
            "|    learning_rate        | 0.0003      |\n",
            "|    loss                 | 0.215       |\n",
            "|    n_updates            | 50          |\n",
            "|    policy_gradient_loss | -0.0171     |\n",
            "|    std                  | 0.991       |\n",
            "|    value_loss           | 13.6        |\n",
            "-----------------------------------------\n",
            "=================================== Save path is /home/theo/Documents/COBAR/flygym/RL_logs\n",
            "=================================== Save path is /home/theo/Documents/COBAR/flygym/RL_logs\n",
            "=================================== Save path is /home/theo/Documents/COBAR/flygym/RL_logs\n",
            "=================================== Save path is /home/theo/Documents/COBAR/flygym/RL_logs\n",
            "-----------------------------------------\n",
            "| time/                   |             |\n",
            "|    fps                  | 504         |\n",
            "|    iterations           | 7           |\n",
            "|    time_elapsed         | 28          |\n",
            "|    total_timesteps      | 14336       |\n",
            "| train/                  |             |\n",
            "|    approx_kl            | 0.014228051 |\n",
            "|    clip_fraction        | 0.0843      |\n",
            "|    clip_range           | 0.2         |\n",
            "|    entropy_loss         | -25.3       |\n",
            "|    explained_variance   | 0.218       |\n",
            "|    learning_rate        | 0.0003      |\n",
            "|    loss                 | 0.0483      |\n",
            "|    n_updates            | 60          |\n",
            "|    policy_gradient_loss | -0.0127     |\n",
            "|    std                  | 0.983       |\n",
            "|    value_loss           | 6.47        |\n",
            "-----------------------------------------\n",
            "=================================== Save path is /home/theo/Documents/COBAR/flygym/RL_logs\n",
            "=================================== Save path is /home/theo/Documents/COBAR/flygym/RL_logs\n",
            "=================================== Save path is /home/theo/Documents/COBAR/flygym/RL_logs\n",
            "=================================== Save path is /home/theo/Documents/COBAR/flygym/RL_logs\n",
            "-------------------------------------------\n",
            "| time/                   |               |\n",
            "|    fps                  | 504           |\n",
            "|    iterations           | 8             |\n",
            "|    time_elapsed         | 32            |\n",
            "|    total_timesteps      | 16384         |\n",
            "| train/                  |               |\n",
            "|    approx_kl            | 0.00038959843 |\n",
            "|    clip_fraction        | 0             |\n",
            "|    clip_range           | 0.2           |\n",
            "|    entropy_loss         | -25.2         |\n",
            "|    explained_variance   | 5.96e-08      |\n",
            "|    learning_rate        | 0.0003        |\n",
            "|    loss                 | 3.21e+10      |\n",
            "|    n_updates            | 70            |\n",
            "|    policy_gradient_loss | 0.000529      |\n",
            "|    std                  | 0.984         |\n",
            "|    value_loss           | 4.95e+10      |\n",
            "-------------------------------------------\n",
            "=================================== Save path is /home/theo/Documents/COBAR/flygym/RL_logs\n",
            "=================================== Save path is /home/theo/Documents/COBAR/flygym/RL_logs\n",
            "=================================== Save path is /home/theo/Documents/COBAR/flygym/RL_logs\n",
            "=================================== Save path is /home/theo/Documents/COBAR/flygym/RL_logs\n",
            "---------------------------------------\n",
            "| time/                   |           |\n",
            "|    fps                  | 507       |\n",
            "|    iterations           | 9         |\n",
            "|    time_elapsed         | 36        |\n",
            "|    total_timesteps      | 18432     |\n",
            "| train/                  |           |\n",
            "|    approx_kl            | 0.0       |\n",
            "|    clip_fraction        | 0         |\n",
            "|    clip_range           | 0.2       |\n",
            "|    entropy_loss         | -25.2     |\n",
            "|    explained_variance   | -4.77e-07 |\n",
            "|    learning_rate        | 0.0003    |\n",
            "|    loss                 | 1.35e+11  |\n",
            "|    n_updates            | 80        |\n",
            "|    policy_gradient_loss | -1.18e-08 |\n",
            "|    std                  | 0.984     |\n",
            "|    value_loss           | 2.71e+11  |\n",
            "---------------------------------------\n",
            "=================================== Save path is /home/theo/Documents/COBAR/flygym/RL_logs\n",
            "=================================== Save path is /home/theo/Documents/COBAR/flygym/RL_logs\n",
            "=================================== Save path is /home/theo/Documents/COBAR/flygym/RL_logs\n",
            "Saving model checkpoint to /home/theo/Documents/COBAR/flygym/RL_logs/rl_model_20000_steps\n",
            "=================================== Save path is /home/theo/Documents/COBAR/flygym/RL_logs\n",
            "---------------------------------------\n",
            "| time/                   |           |\n",
            "|    fps                  | 508       |\n",
            "|    iterations           | 10        |\n",
            "|    time_elapsed         | 40        |\n",
            "|    total_timesteps      | 20480     |\n",
            "| train/                  |           |\n",
            "|    approx_kl            | 0.0       |\n",
            "|    clip_fraction        | 0         |\n",
            "|    clip_range           | 0.2       |\n",
            "|    entropy_loss         | -25.2     |\n",
            "|    explained_variance   | -1.19e-07 |\n",
            "|    learning_rate        | 0.0003    |\n",
            "|    loss                 | 1.2e+10   |\n",
            "|    n_updates            | 90        |\n",
            "|    policy_gradient_loss | -6.64e-08 |\n",
            "|    std                  | 0.984     |\n",
            "|    value_loss           | 2.04e+10  |\n",
            "---------------------------------------\n",
            "=================================== Save path is /home/theo/Documents/COBAR/flygym/RL_logs\n",
            "=================================== Save path is /home/theo/Documents/COBAR/flygym/RL_logs\n",
            "=================================== Save path is /home/theo/Documents/COBAR/flygym/RL_logs\n",
            "=================================== Save path is /home/theo/Documents/COBAR/flygym/RL_logs\n",
            "=================================== Save path is /home/theo/Documents/COBAR/flygym/RL_logs\n",
            "------------------------------------------\n",
            "| time/                   |              |\n",
            "|    fps                  | 509          |\n",
            "|    iterations           | 11           |\n",
            "|    time_elapsed         | 44           |\n",
            "|    total_timesteps      | 22528        |\n",
            "| train/                  |              |\n",
            "|    approx_kl            | 0.0009848657 |\n",
            "|    clip_fraction        | 9.77e-05     |\n",
            "|    clip_range           | 0.2          |\n",
            "|    entropy_loss         | -25.2        |\n",
            "|    explained_variance   | -0.000385    |\n",
            "|    learning_rate        | 0.0003       |\n",
            "|    loss                 | 1.82         |\n",
            "|    n_updates            | 100          |\n",
            "|    policy_gradient_loss | -0.00243     |\n",
            "|    std                  | 0.984        |\n",
            "|    value_loss           | 29.8         |\n",
            "------------------------------------------\n",
            "=================================== Save path is /home/theo/Documents/COBAR/flygym/RL_logs\n",
            "=================================== Save path is /home/theo/Documents/COBAR/flygym/RL_logs\n",
            "=================================== Save path is /home/theo/Documents/COBAR/flygym/RL_logs\n",
            "=================================== Save path is /home/theo/Documents/COBAR/flygym/RL_logs\n",
            "------------------------------------------\n",
            "| time/                   |              |\n",
            "|    fps                  | 499          |\n",
            "|    iterations           | 12           |\n",
            "|    time_elapsed         | 49           |\n",
            "|    total_timesteps      | 24576        |\n",
            "| train/                  |              |\n",
            "|    approx_kl            | 0.0032406477 |\n",
            "|    clip_fraction        | 0.00161      |\n",
            "|    clip_range           | 0.2          |\n",
            "|    entropy_loss         | -25.2        |\n",
            "|    explained_variance   | -0.000593    |\n",
            "|    learning_rate        | 0.0003       |\n",
            "|    loss                 | 0.322        |\n",
            "|    n_updates            | 110          |\n",
            "|    policy_gradient_loss | -0.00281     |\n",
            "|    std                  | 0.984        |\n",
            "|    value_loss           | 17.4         |\n",
            "------------------------------------------\n",
            "=================================== Save path is /home/theo/Documents/COBAR/flygym/RL_logs\n",
            "=================================== Save path is /home/theo/Documents/COBAR/flygym/RL_logs\n",
            "=================================== Save path is /home/theo/Documents/COBAR/flygym/RL_logs\n",
            "=================================== Save path is /home/theo/Documents/COBAR/flygym/RL_logs\n",
            "-----------------------------------------\n",
            "| time/                   |             |\n",
            "|    fps                  | 491         |\n",
            "|    iterations           | 13          |\n",
            "|    time_elapsed         | 54          |\n",
            "|    total_timesteps      | 26624       |\n",
            "| train/                  |             |\n",
            "|    approx_kl            | 0.017441753 |\n",
            "|    clip_fraction        | 0.159       |\n",
            "|    clip_range           | 0.2         |\n",
            "|    entropy_loss         | -25.2       |\n",
            "|    explained_variance   | -0.08       |\n",
            "|    learning_rate        | 0.0003      |\n",
            "|    loss                 | -0.0304     |\n",
            "|    n_updates            | 120         |\n",
            "|    policy_gradient_loss | -0.0149     |\n",
            "|    std                  | 0.981       |\n",
            "|    value_loss           | 4.08        |\n",
            "-----------------------------------------\n",
            "=================================== Save path is /home/theo/Documents/COBAR/flygym/RL_logs\n",
            "=================================== Save path is /home/theo/Documents/COBAR/flygym/RL_logs\n",
            "=================================== Save path is /home/theo/Documents/COBAR/flygym/RL_logs\n",
            "=================================== Save path is /home/theo/Documents/COBAR/flygym/RL_logs\n",
            "-----------------------------------------\n",
            "| time/                   |             |\n",
            "|    fps                  | 486         |\n",
            "|    iterations           | 14          |\n",
            "|    time_elapsed         | 58          |\n",
            "|    total_timesteps      | 28672       |\n",
            "| train/                  |             |\n",
            "|    approx_kl            | 0.015526624 |\n",
            "|    clip_fraction        | 0.169       |\n",
            "|    clip_range           | 0.2         |\n",
            "|    entropy_loss         | -25.2       |\n",
            "|    explained_variance   | 0.251       |\n",
            "|    learning_rate        | 0.0003      |\n",
            "|    loss                 | 0.0203      |\n",
            "|    n_updates            | 130         |\n",
            "|    policy_gradient_loss | -0.021      |\n",
            "|    std                  | 0.977       |\n",
            "|    value_loss           | 1.25        |\n",
            "-----------------------------------------\n",
            "=================================== Save path is /home/theo/Documents/COBAR/flygym/RL_logs\n",
            "=================================== Save path is /home/theo/Documents/COBAR/flygym/RL_logs\n",
            "Saving model checkpoint to /home/theo/Documents/COBAR/flygym/RL_logs/rl_model_30000_steps\n",
            "=================================== Save path is /home/theo/Documents/COBAR/flygym/RL_logs\n",
            "=================================== Save path is /home/theo/Documents/COBAR/flygym/RL_logs\n",
            "-----------------------------------------\n",
            "| time/                   |             |\n",
            "|    fps                  | 479         |\n",
            "|    iterations           | 15          |\n",
            "|    time_elapsed         | 64          |\n",
            "|    total_timesteps      | 30720       |\n",
            "| train/                  |             |\n",
            "|    approx_kl            | 0.000643075 |\n",
            "|    clip_fraction        | 0           |\n",
            "|    clip_range           | 0.2         |\n",
            "|    entropy_loss         | -25.1       |\n",
            "|    explained_variance   | 1.79e-07    |\n",
            "|    learning_rate        | 0.0003      |\n",
            "|    loss                 | 7.16e+10    |\n",
            "|    n_updates            | 140         |\n",
            "|    policy_gradient_loss | 0.000415    |\n",
            "|    std                  | 0.977       |\n",
            "|    value_loss           | 1.18e+11    |\n",
            "-----------------------------------------\n"
          ]
        }
      ],
      "source": [
        "from flygym.util.config import all_leg_dofs\n",
        "from flygym.util.config import leg_dofs_3_per_leg\n",
        "\n",
        "from stable_baselines3 import PPO\n",
        "from stable_baselines3.ppo import MlpPolicy\n",
        "#using the config 3 Dofs per leg we just get the joint positions in observation\n",
        "# if we would like to use other info in observation need to change observation space\n",
        "import os\n",
        "print(f\"working dir: {os.getcwd()}\")\n",
        "# Get the absolute path of the parent directory of the cwd\n",
        "parent_dir = os.path.abspath(os.path.join(os.getcwd(), os.pardir))\n",
        "# Construct the path to the TL_logs directory\n",
        "SAVE_PATH = os.path.join(parent_dir, \"RL_logs\")\n",
        "print(SAVE_PATH)\n",
        "SAVE_NAME=\"first_test\"\n",
        "\n",
        "run_time = 0.5\n",
        "nmf_env_headless = MyNMF(render_mode='headless',\n",
        "                         timestep=1e-4,\n",
        "                         init_pose='stretch',\n",
        "                         actuated_joints=leg_dofs_3_per_leg)  # which DoFs would you use?\n",
        "\n",
        "checkpoint_callback = CheckpointCallback(save_freq=10000, save_path=SAVE_PATH,name_prefix='rl_model', env=nmf_env_headless, rew_freq=1000, verbose=2)\n",
        "\n",
        "\n",
        "nmf_model = PPO(MlpPolicy, nmf_env_headless,verbose=1, tensorboard_log=\"../RL_logs/logdir\")\n",
        "nmf_model.learn(total_timesteps=30_000, log_interval=1,callback=checkpoint_callback, tb_log_name=SAVE_NAME)\n",
        "\n",
        "env=nmf_model.get_env()\n",
        "env.close()\n"
      ]
    },
    {
      "attachments": {},
      "cell_type": "markdown",
      "metadata": {
        "id": "bYF3x3xYJ_dV"
      },
      "source": [
        "... and evaluate it:"
      ]
    },
    {
      "cell_type": "code",
      "execution_count": 42,
      "metadata": {
        "id": "gBu3XHFgKB5o"
      },
      "outputs": [],
      "source": [
        "nmf_env_rendered = MyNMF(render_mode='saved',\n",
        "                         timestep=1e-4,\n",
        "                         init_pose='stretch',\n",
        "                         render_config={'playspeed': 0.1,\n",
        "                                        'camera': 'Animat/camera_left_top'},\n",
        "                         actuated_joints=leg_dofs_3_per_leg)\n",
        "obs, _ = nmf_env_rendered.reset()\n",
        "obs_list = []\n",
        "rew_list = []\n",
        "for i in range(int(run_time / nmf_env_rendered.nmf.timestep)):\n",
        "    action, _ = nmf_model.predict(obs)\n",
        "    obs, reward, terminated, truncated, info = nmf_env_rendered.step(action)\n",
        "    obs_list.append(obs)\n",
        "    rew_list.append(reward)\n",
        "    nmf_env_rendered.render()"
      ]
    },
    {
      "attachments": {},
      "cell_type": "markdown",
      "metadata": {
        "id": "NYa2iPSzKWJ7"
      },
      "source": [
        "We can also visualize the results:"
      ]
    },
    {
      "cell_type": "code",
      "execution_count": 48,
      "metadata": {
        "id": "rRRUOJCPKYDU"
      },
      "outputs": [],
      "source": [
        "path_vids=\"../RL_logs/vids\"\n",
        "path=os.path.join(path_vids,'first_test.mp4')\n",
        "nmf_env_rendered.nmf.save_video(path)\n",
        "nmf_env_rendered.close()"
      ]
    },
    {
      "cell_type": "code",
      "execution_count": null,
      "metadata": {},
      "outputs": [],
      "source": []
    }
  ],
  "metadata": {
    "accelerator": "GPU",
    "colab": {
      "provenance": []
    },
    "gpuClass": "standard",
    "kernelspec": {
      "display_name": "Python 3",
      "name": "python3"
    },
    "language_info": {
      "codemirror_mode": {
        "name": "ipython",
        "version": 3
      },
      "file_extension": ".py",
      "mimetype": "text/x-python",
      "name": "python",
      "nbconvert_exporter": "python",
      "pygments_lexer": "ipython3",
      "version": "3.8.14"
    },
    "widgets": {
      "application/vnd.jupyter.widget-state+json": {
        "9b9597d40b99416486f21e6b8d0941d1": {
          "model_module": "@jupyter-widgets/base",
          "model_module_version": "1.2.0",
          "model_name": "LayoutModel",
          "state": {
            "_model_module": "@jupyter-widgets/base",
            "_model_module_version": "1.2.0",
            "_model_name": "LayoutModel",
            "_view_count": null,
            "_view_module": "@jupyter-widgets/base",
            "_view_module_version": "1.2.0",
            "_view_name": "LayoutView",
            "align_content": null,
            "align_items": null,
            "align_self": null,
            "border": null,
            "bottom": null,
            "display": null,
            "flex": null,
            "flex_flow": null,
            "grid_area": null,
            "grid_auto_columns": null,
            "grid_auto_flow": null,
            "grid_auto_rows": null,
            "grid_column": null,
            "grid_gap": null,
            "grid_row": null,
            "grid_template_areas": null,
            "grid_template_columns": null,
            "grid_template_rows": null,
            "height": null,
            "justify_content": null,
            "justify_items": null,
            "left": null,
            "margin": null,
            "max_height": null,
            "max_width": null,
            "min_height": null,
            "min_width": null,
            "object_fit": null,
            "object_position": null,
            "order": null,
            "overflow": null,
            "overflow_x": null,
            "overflow_y": null,
            "padding": null,
            "right": null,
            "top": null,
            "visibility": null,
            "width": null
          }
        },
        "cf5b496ca065444cb7b872cf8892e0ea": {
          "model_module": "@jupyter-widgets/output",
          "model_module_version": "1.0.0",
          "model_name": "OutputModel",
          "state": {
            "_dom_classes": [],
            "_model_module": "@jupyter-widgets/output",
            "_model_module_version": "1.0.0",
            "_model_name": "OutputModel",
            "_view_count": null,
            "_view_module": "@jupyter-widgets/output",
            "_view_module_version": "1.0.0",
            "_view_name": "OutputView",
            "layout": "IPY_MODEL_9b9597d40b99416486f21e6b8d0941d1",
            "msg_id": "",
            "outputs": [
              {
                "data": {
                  "text/html": "<pre style=\"white-space:pre;overflow-x:auto;line-height:normal;font-family:Menlo,'DejaVu Sans Mono',consolas,'Courier New',monospace\"><span style=\"color: #800080; text-decoration-color: #800080\"> 100%</span> <span style=\"color: #729c1f; text-decoration-color: #729c1f\">━━━━━━━━━━━━━━━━━━━━━━━━━━━━━━━━━━━━━━━━━━━━━━━━━━━━━━━━━━━━━</span> <span style=\"color: #008000; text-decoration-color: #008000\">10,225/10,000 </span> [ <span style=\"color: #808000; text-decoration-color: #808000\">0:00:24</span> &lt; <span style=\"color: #008080; text-decoration-color: #008080\">0:00:00</span> , <span style=\"color: #800000; text-decoration-color: #800000\">406 it/s</span> ]\n</pre>\n",
                  "text/plain": "\u001b[35m 100%\u001b[0m \u001b[38;2;114;156;31m━━━━━━━━━━━━━━━━━━━━━━━━━━━━━━━━━━━━━━━━━━━━━━━━━━━━━━━━━━━━━\u001b[0m \u001b[32m10,225/10,000 \u001b[0m [ \u001b[33m0:00:24\u001b[0m < \u001b[36m0:00:00\u001b[0m , \u001b[31m406 it/s\u001b[0m ]\n"
                },
                "metadata": {},
                "output_type": "display_data"
              }
            ]
          }
        }
      }
    }
  },
  "nbformat": 4,
  "nbformat_minor": 0
}
