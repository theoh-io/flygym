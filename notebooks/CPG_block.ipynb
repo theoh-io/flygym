{
 "cells": [
  {
   "cell_type": "code",
   "execution_count": 1,
   "metadata": {},
   "outputs": [],
   "source": [
    "import numpy as np\n",
    "import pkg_resources\n",
    "import pickle\n",
    "import matplotlib.pyplot as plt\n",
    "from pathlib import Path\n",
    "from flygym.envs.nmf_mujoco import NeuroMechFlyMuJoCo\n",
    "from flygym.terrain.mujoco_terrain import ExtrudingBlocksTerrain\n",
    "\n",
    "from tqdm import trange\n",
    "from flygym.util.config import all_leg_dofs\n",
    "\n",
    "from scipy.signal import medfilt\n",
    "from scipy.integrate import ode\n",
    "\n",
    "import PIL.Image"
   ]
  },
  {
   "cell_type": "code",
   "execution_count": 2,
   "metadata": {},
   "outputs": [],
   "source": [
    "# Initialize simulation\n",
    "run_time = 1\n",
    "out_dir = Path('../CPGs')\n",
    "\n",
    "#friction between the fly and the ground\n",
    "friction = 1.0\n",
    "\n",
    "physics_config = {\n",
    "    'joint_stiffness': 2500,\n",
    "    'friction': (friction, 0.005, 0.0001),\n",
    "    'gravity': (0, 0, -9.81e5)}\n",
    "terrain_config = {'fly_pos': (0, 0, 600),\n",
    "                  'friction': (friction, 0.005, 0.0001)}\n",
    "\n",
    "nmf = NeuroMechFlyMuJoCo(render_mode='saved',\n",
    "                         timestep=1e-4,\n",
    "                         render_config={'playspeed': 0.1, 'camera': 'Animat/camera_left_top'},\n",
    "                         init_pose='stretch',\n",
    "                         actuated_joints=all_leg_dofs,\n",
    "                         terrain='blocks')\n",
    "\n",
    "num_steps_base = int(run_time / nmf.timestep)"
   ]
  },
  {
   "cell_type": "code",
   "execution_count": 3,
   "metadata": {},
   "outputs": [],
   "source": [
    "\n",
    "legs = [\"RF\", \"RM\", \"RH\", \"LF\", \"LM\", \"LH\"]\n",
    "n_oscillators = len(legs)\n",
    "\n",
    "dt = nmf.timestep  # seconds\n",
    "t = np.arange(0, run_time, dt)\n",
    "\n",
    "# lets say we want 10 oscillations in the time period\n",
    "n_steps = 10\n",
    "frequencies = np.ones(n_oscillators) * n_steps / run_time\n",
    "\n",
    "# For now each oscillator have the same amplitude\n",
    "target_amplitude = 1.0\n",
    "target_amplitudes = np.ones(n_oscillators) * target_amplitude\n",
    "#rate of change of the amplitude for each oscillator\n",
    "rate = 10\n",
    "rates = np.ones(n_oscillators) * rate\n",
    "\n",
    "# Here we just build a chain of oscillators form 1 to 6\n",
    "# They all have a bias of pi/6 from one to the other\n",
    "bias = np.pi/3\n",
    "# bias only above or bellow the main diagonal => only coupling between neighbouring oscillators\n",
    "phase_biases = np.diag(np.ones(n_oscillators-1)*bias,k=1) - np.diag(np.ones(n_oscillators-1) * bias, k=-1)\n",
    "\n",
    "# We wont play with the coupling weights yet so lets set it as the same as the phase biases\n",
    "# As a consequence the oscillators that have a phase difference of zero are not coupled (depending on your implementation you might want to change that)\n",
    "coupling_weights = (np.abs(phase_biases) > 0).astype(float) * 10.0 #* 10.0"
   ]
  },
  {
   "cell_type": "code",
   "execution_count": 4,
   "metadata": {},
   "outputs": [],
   "source": [
    "def phase_oscillator(_time, state):\n",
    "    \"\"\"Phase oscillator model used in Ijspeert et al. 2007\"\"\"\n",
    "    \n",
    "    # current state of the oscillator with phases and amplitudes\n",
    "    phases = state[:n_oscillators]\n",
    "    amplitudes = state[n_oscillators:2*n_oscillators]\n",
    "\n",
    "    # NxN matrix with the phases of the oscillators, each row copy of the phases vector\n",
    "    phase_matrix = np.tile(phases, (n_oscillators, 1))\n",
    "\n",
    "    # NxN matrix with the amplitudes of the oscillators, each row copy of the amplitudes vector\n",
    "    amp_matrix = np.tile(amplitudes, (n_oscillators, 1))\n",
    "\n",
    "    freq_contribution = 2*np.pi*frequencies\n",
    "\n",
    "    #  scaling of the phase differences between oscillators by the amplitude of the oscillators and the coupling weights\n",
    "    scaling = np.multiply(amp_matrix, coupling_weights)\n",
    "\n",
    "    # phase matrix and transpose substraction are analogous to the phase differences between oscillators, those should be close to the phase biases\n",
    "    phase_shifts_contribution = np.sin(phase_matrix-phase_matrix.T-phase_biases)\n",
    "\n",
    "    # Here we compute the contribution of the phase biases to the derivative of the phases\n",
    "    # we mulitply two NxN matrices and then sum over the columns (all j oscillators contributions) to get a vector of size N \n",
    "    coupling_contribution = np.sum(np.multiply(scaling, phase_shifts_contribution), axis=1)\n",
    "\n",
    "    # Here we compute the derivative of the phases given by the equations defined previously. \n",
    "    # We are using for that matrix operations to speed up the computation\n",
    "    dphases =  freq_contribution + coupling_contribution\n",
    "    \n",
    "    damplitudes = np.multiply(rates, target_amplitudes-amplitudes)\n",
    "    \n",
    "    return np.concatenate([dphases, damplitudes])\n",
    "\n",
    "def sine_output(phases, amplitudes):\n",
    "        return amplitudes * (1 + np.cos(phases))"
   ]
  },
  {
   "cell_type": "code",
   "execution_count": 5,
   "metadata": {},
   "outputs": [],
   "source": [
    "# Load recorded data\n",
    "data_path = Path(pkg_resources.resource_filename('flygym', 'data'))\n",
    "with open(data_path / 'behavior' / 'single_steps.pkl', 'rb') as f:\n",
    "    data = pickle.load(f)"
   ]
  },
  {
   "cell_type": "code",
   "execution_count": 6,
   "metadata": {},
   "outputs": [],
   "source": [
    "# Interpolate 5x\n",
    "step_duration = len(data['joint_LFCoxa'])\n",
    "# number of samples in the step duration\n",
    "interp_step_duration = int(step_duration * data['meta']['timestep'] / nmf.timestep)\n",
    "# holds the interpolated data for all joints\n",
    "step_data_block_base = np.zeros((len(nmf.actuated_joints), interp_step_duration))\n",
    "# time at which each joint angle was measured\n",
    "measure_t = np.arange(step_duration) * data['meta']['timestep']\n",
    "#time at which we want to interpolate the data\n",
    "interp_t = np.arange(interp_step_duration) * nmf.timestep\n",
    "\n",
    "# Interpolate data for each joint at the higher frequency\n",
    "for i, joint in enumerate(nmf.actuated_joints):\n",
    "    step_data_block_base[i, :] = np.interp(interp_t, measure_t, data[joint])"
   ]
  },
  {
   "cell_type": "code",
   "execution_count": 7,
   "metadata": {},
   "outputs": [],
   "source": [
    "step_data_block_manualcorrect = step_data_block_base.copy()\n",
    "\n",
    "for side in [\"L\", \"R\"]:\n",
    "    step_data_block_manualcorrect[nmf.actuated_joints.index(f\"joint_{side}MCoxa\")] += np.deg2rad(10) # Protract the midlegs: angle of midleg coxa increased by 10 degrees causing the leg to be more extended -> move forward\n",
    "    step_data_block_manualcorrect[nmf.actuated_joints.index(f\"joint_{side}HFemur\")] += np.deg2rad(-5) # Retract the hindlegs: angle of hindleg femur decreased by 5 degrees causing the leg to be more flexed -> move backward\n",
    "    step_data_block_manualcorrect[nmf.actuated_joints.index(f\"joint_{side}HTarsus1\")] -= np.deg2rad(15) # Tarsus more parallel to the ground (flexed) (also helps with the hindleg retraction): angle of hindleg tarsus1 decreased by 15 degrees causing the leg to be more flexed \n",
    "    step_data_block_manualcorrect[nmf.actuated_joints.index(f\"joint_{side}FFemur\")] += np.deg2rad(15) # Protract the forelegs (slightly to conterbalance Tarsus flexion): angle of foreleg femur increased by 15 degrees causing the leg to be more extended -> move forward\n",
    "    step_data_block_manualcorrect[nmf.actuated_joints.index(f\"joint_{side}FTarsus1\")] -= np.deg2rad(15) # Tarsus more parallel to the ground (flexed) (add some retraction of the forelegs): angle of foreleg tarsus1 decreased by 15 degrees causing the leg to be more flexed\n"
   ]
  },
  {
   "cell_type": "code",
   "execution_count": 8,
   "metadata": {},
   "outputs": [],
   "source": [
    "n_joints = len(nmf.actuated_joints)\n",
    "\n",
    "leg_ids = np.arange(len(legs)).astype(int)\n",
    "joint_ids = np.arange(n_joints).astype(int)\n",
    "# Map the id of the joint to the leg it belongs to (usefull to go through the steps for each legs)\n",
    "match_leg_to_joints = np.array([i  for joint in nmf.actuated_joints for i, leg in enumerate(legs) if leg in joint])\n",
    "\n",
    "\n",
    "def advancement_transfer(phases, step_dur=interp_step_duration):\n",
    "    \"\"\"From phase define what is the corresponding timepoint in the joint dataset\n",
    "    In the case of the oscillator, the period is 2pi and the step duration is the period of the step\n",
    "    We have to match those two\"\"\"\n",
    "\n",
    "    period = 2*np.pi\n",
    "    #match length of step to period phases should have a period of period mathc this perios to the one of the step\n",
    "    t_indices = np.round(np.mod(phases*step_dur/period, step_dur-1)).astype(int)\n",
    "    t_indices = t_indices[match_leg_to_joints]\n",
    "    \n",
    "    return t_indices\n",
    "\n",
    "\n",
    "# A dictionary to keep track of the state of each leg\n",
    "leg_state = {\n",
    "    'L': 'off_block',\n",
    "    'R': 'off_block',\n",
    "    # add additional leg identifiers as needed\n",
    "}\n",
    "\n",
    "# Adjust your advancement function to take into account the leg state\n",
    "def advancement_transfer_with_block_state(phases, leg_state, step_dur=interp_step_duration):\n",
    "    \"\"\"From phase define what is the corresponding timepoint in the joint dataset\n",
    "    In the case of the oscillator, the period is 2pi and the step duration is the period of the step\n",
    "    We have to match those two\"\"\"\n",
    "    \n",
    "    period = 2*np.pi\n",
    "    t_indices = np.round(np.mod(phases*step_dur/period, step_dur-1)).astype(int)\n",
    "    \n",
    "    # Modify indices based on leg state\n",
    "    for i, leg_id in enumerate(leg_state.keys()):\n",
    "        if leg_state[leg_id] == 'on_block':\n",
    "            t_indices[i] = on_block_movement(leg_id, t_indices[i])\n",
    "        else:\n",
    "            t_indices[i] = off_block_movement(leg_id, t_indices[i])\n",
    "    \n",
    "    t_indices = t_indices[match_leg_to_joints]\n",
    "    \n",
    "    return t_indices\n",
    "\n",
    "# Add your on_block_movement and off_block_movement functions here\n",
    "def on_block_movement(leg_id, t_index):\n",
    "    # Modify t_index based on the leg being on a block\n",
    "    return t_index\n",
    "\n",
    "def off_block_movement(leg_id, t_index):\n",
    "    # Modify t_index based on the leg being off a block\n",
    "    return t_index\n"
   ]
  },
  {
   "cell_type": "code",
   "execution_count": 9,
   "metadata": {},
   "outputs": [],
   "source": [
    "# The bias matrix is define as follow: each line is the i oscillator and each column is the j oscillator couplign goes from i to j\n",
    "# We express the bias in percentage of cycle \n",
    "# rows ad columns correspond to legs of the robot and each value is the phase bias between the two legs. Diagonal is 0 \n",
    "phase_biases_measured= np.array([[0, 0.425, 0.85, 0.51, 0, 0],\n",
    "                                  [0.425, 0, 0.425, 0, 0.51, 0],\n",
    "                                  [0.85, 0.425, 0, 0, 0, 0.51],\n",
    "                                  [0.51, 0, 0, 0, 0.425, 0.85],\n",
    "                                  [0, 0.51, 0, 0.425, 0, 0.425],\n",
    "                                  [0, 0, 0.51, 0.85, 0.425, 0]])\n",
    "                                \n",
    "phase_biases_idealized = np.array([[0, 0.5, 1.0, 0.5, 0, 0],\n",
    "                                   [0.5, 0, 0.5, 0, 0.5, 0],\n",
    "                                   [1.0, 0.5, 0, 0, 0, 0.5],\n",
    "                                   [0.5, 0, 0, 0, 0.5, 1.0],\n",
    "                                   [0, 0.5, 0, 0.5, 0, 0.5],\n",
    "                                   [0, 0, 0.5, 1.0, 0.5, 0]]) \n",
    "# Phase bias of one is the same as zero (1 cycle difference)\n",
    "# If we would use a phase bias of zero, we would need to change the coupling weight strategy\n",
    "\n",
    "phase_biases = phase_biases_idealized * 2 * np.pi\n",
    "\n",
    "coupling_weights = (np.abs(phase_biases) > 0).astype(float) * 10.0 #* 10.0"
   ]
  },
  {
   "cell_type": "code",
   "execution_count": 11,
   "metadata": {},
   "outputs": [
    {
     "name": "stderr",
     "output_type": "stream",
     "text": [
      "/Users/annalasne/opt/anaconda3/envs/flygym/lib/python3.8/site-packages/scipy/integrate/_ode.py:1179: UserWarning: dop853: step size becomes too small\n",
      "  warnings.warn('{:s}: {:s}'.format(self.__class__.__name__,\n"
     ]
    }
   ],
   "source": [
    "block_height_threshold =300\n",
    "\n",
    "np.random.seed(42)\n",
    "\n",
    "_ = nmf.reset()\n",
    "\n",
    "solver = ode(f=phase_oscillator)\n",
    "solver.set_integrator('dop853')\n",
    "initial_values = np.random.rand(2*n_oscillators)\n",
    "solver.set_initial_value(y=initial_values, t=nmf.curr_time)\n",
    "\n",
    "n_stabilisation_steps = 1000\n",
    "num_steps = n_stabilisation_steps + num_steps_base\n",
    "\n",
    "phases = np.zeros((num_steps, n_oscillators))\n",
    "amplitudes = np.zeros((num_steps, n_oscillators))\n",
    "\n",
    "joint_angles = np.zeros((num_steps, n_joints))\n",
    "\n",
    "obs_list_tripod = []\n",
    "\n",
    "# add an array to store the position data of the feet\n",
    "position_data = np.zeros((6, num_steps))\n",
    "# add an array to store the position data of the thorax \n",
    "fly_pos = np.zeros(num_steps)\n",
    "\n",
    "for i in range(num_steps):\n",
    "    res = solver.integrate(nmf.curr_time)\n",
    "    phase = res[:n_oscillators]\n",
    "    amp = res[n_oscillators:2*n_oscillators]\n",
    "\n",
    "    phases[i, :] = phase\n",
    "    amplitudes[i, :] = amp \n",
    "\n",
    "    if i > n_stabilisation_steps:\n",
    "        indices = advancement_transfer_with_block_state(phase, leg_state)\n",
    "\n",
    "        # Create a separate step_data_block_manualcorrect for each iteration\n",
    "        step_data_block_manualcorrect_iter = step_data_block_manualcorrect.copy()\n",
    "        \n",
    "        # Get legs not on block\n",
    "        legs_below_surface = np.where(position_data[:, i] < block_height_threshold)[0]\n",
    "\n",
    "        # Update step_data_block_manualcorrect_iter for each leg not on block\n",
    "        for leg_id in legs_below_surface:\n",
    "            leg = legs[leg_id]\n",
    "            \n",
    "            step_data_block_manualcorrect_iter[nmf.actuated_joints.index(f\"joint_{leg}Femur\")] += np.deg2rad(-5)\n",
    "            step_data_block_manualcorrect_iter[nmf.actuated_joints.index(f\"joint_{leg}Tarsus1\")] -= np.deg2rad(10)\n",
    "\n",
    "        action = {'joints': step_data_block_manualcorrect_iter[joint_ids, 0] +\n",
    "                (step_data_block_manualcorrect_iter[joint_ids, indices] -\n",
    "                step_data_block_manualcorrect_iter[joint_ids, 0]) * amp[match_leg_to_joints]}\n",
    "    else:\n",
    "        action = {'joints': step_data_block_manualcorrect[joint_ids, 0]}\n",
    "        \n",
    "    obs, info = nmf.step(action)\n",
    "\n",
    "    # Store the position data of the feet and thorax (z-axis only)\n",
    "    position_data[:, i] = obs['end_effectors'][2::3]\n",
    "    fly_pos[i] = obs['fly'][0][2]\n",
    "\n",
    "    obs_list_tripod.append(obs)\n",
    "    joint_angles[i, :] = action['joints']\n",
    "    \n",
    "    nmf.render()\n",
    "\n",
    "nmf.save_video(out_dir / \"tripod_block_3.mp4\")"
   ]
  },
  {
   "cell_type": "code",
   "execution_count": 12,
   "metadata": {},
   "outputs": [
    {
     "data": {
      "application/vnd.jupyter.widget-view+json": {
       "model_id": "192d55f49fc74122a9aa1fce6827f646",
       "version_major": 2,
       "version_minor": 0
      },
      "text/plain": [
       "Video(value=b'\\x00\\x00\\x00 ftypisom\\x00\\x00\\x02\\x00isomiso2avc1mp41\\x00\\x00\\x00\\x08free...')"
      ]
     },
     "execution_count": 12,
     "metadata": {},
     "output_type": "execute_result"
    }
   ],
   "source": [
    "from ipywidgets import Video\n",
    "Video.from_file(out_dir / 'tripod_block_3.mp4')"
   ]
  },
  {
   "cell_type": "code",
   "execution_count": 13,
   "metadata": {},
   "outputs": [
    {
     "data": {
      "text/plain": [
       "1345.3563393345778"
      ]
     },
     "execution_count": 13,
     "metadata": {},
     "output_type": "execute_result"
    }
   ],
   "source": [
    "obs['fly'][0][2]"
   ]
  },
  {
   "cell_type": "code",
   "execution_count": 14,
   "metadata": {},
   "outputs": [
    {
     "data": {
      "text/plain": [
       "[<matplotlib.lines.Line2D at 0x7fa59489a160>]"
      ]
     },
     "execution_count": 14,
     "metadata": {},
     "output_type": "execute_result"
    },
    {
     "data": {
      "image/png": "[encoded data removed]",
      "text/plain": [
       "<Figure size 640x480 with 1 Axes>"
      ]
     },
     "metadata": {},
     "output_type": "display_data"
    }
   ],
   "source": [
    "plt.plot(fly_pos)"
   ]
  },
  {
   "cell_type": "code",
   "execution_count": null,
   "metadata": {},
   "outputs": [],
   "source": []
  }
 ],
 "metadata": {
  "kernelspec": {
   "display_name": "flygym",
   "language": "python",
   "name": "python3"
  },
  "language_info": {
   "codemirror_mode": {
    "name": "ipython",
    "version": 3
   },
   "file_extension": ".py",
   "mimetype": "text/x-python",
   "name": "python",
   "nbconvert_exporter": "python",
   "pygments_lexer": "ipython3",
   "version": "3.8.16 (default, Mar  1 2023, 21:19:10) \n[Clang 14.0.6 ]"
  },
  "orig_nbformat": 4,
  "vscode": {
   "interpreter": {
    "hash": "29e18347c3377e303bc6df65424986fe9c6b4cd3a0ff9509a1fb2f6c89103e7f"
   }
  }
 },
 "nbformat": 4,
 "nbformat_minor": 2
}
